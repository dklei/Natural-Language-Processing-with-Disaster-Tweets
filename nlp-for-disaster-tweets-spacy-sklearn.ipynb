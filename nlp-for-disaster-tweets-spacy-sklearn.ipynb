{
 "cells": [
  {
   "cell_type": "markdown",
   "metadata": {},
   "source": [
    "**This is from the \"Natural Language Processing with Disaster Tweets\" kaggle competition: https://www.kaggle.com/c/nlp-getting-started**\n",
    "\n",
    "**The aim is to try to classify tweets to determine whether they relate to real disasters or not**"
   ]
  },
  {
   "cell_type": "code",
   "execution_count": 1,
   "metadata": {
    "_cell_guid": "b1076dfc-b9ad-4769-8c92-a6c4dae69d19",
    "_uuid": "8f2839f25d086af736a60e9eeb907d3b93b6e0e5",
    "execution": {
     "iopub.execute_input": "2021-09-03T08:29:46.623849Z",
     "iopub.status.busy": "2021-09-03T08:29:46.623310Z",
     "iopub.status.idle": "2021-09-03T08:29:59.352702Z",
     "shell.execute_reply": "2021-09-03T08:29:59.351593Z",
     "shell.execute_reply.started": "2021-09-03T08:29:46.623714Z"
    }
   },
   "outputs": [
    {
     "name": "stdout",
     "output_type": "stream",
     "text": [
      "INFO: Pandarallel will run on 8 workers.\n",
      "INFO: Pandarallel will use standard multiprocessing data transfer (pipe) to transfer data between the main process and workers.\n"
     ]
    }
   ],
   "source": [
    "import numpy as np # linear algebra\n",
    "import pandas as pd # data processing, CSV file I/O (e.g. pd.read_csv)\n",
    "import seaborn as sns\n",
    "from sklearn.metrics import confusion_matrix, classification_report\n",
    "from sklearn.model_selection import train_test_split, GridSearchCV\n",
    "from sklearn.pipeline import Pipeline\n",
    "from sklearn.feature_extraction.text import TfidfVectorizer, CountVectorizer\n",
    "from nltk.corpus import stopwords\n",
    "from urllib.parse import unquote\n",
    "import spacy\n",
    "from pandarallel import pandarallel\n",
    "\n",
    "pandarallel.initialize(progress_bar=True)\n",
    "nlp = spacy.load(\"en_core_web_lg\")\n",
    "STOPWORDS = stopwords.words(\"english\")"
   ]
  },
  {
   "cell_type": "markdown",
   "metadata": {},
   "source": [
    "# Load in the data"
   ]
  },
  {
   "cell_type": "code",
   "execution_count": 2,
   "metadata": {
    "execution": {
     "iopub.execute_input": "2021-09-03T08:29:59.357264Z",
     "iopub.status.busy": "2021-09-03T08:29:59.356891Z",
     "iopub.status.idle": "2021-09-03T08:29:59.434982Z",
     "shell.execute_reply": "2021-09-03T08:29:59.433971Z",
     "shell.execute_reply.started": "2021-09-03T08:29:59.357229Z"
    }
   },
   "outputs": [
    {
     "data": {
      "text/html": [
       "<div>\n",
       "<style scoped>\n",
       "    .dataframe tbody tr th:only-of-type {\n",
       "        vertical-align: middle;\n",
       "    }\n",
       "\n",
       "    .dataframe tbody tr th {\n",
       "        vertical-align: top;\n",
       "    }\n",
       "\n",
       "    .dataframe thead th {\n",
       "        text-align: right;\n",
       "    }\n",
       "</style>\n",
       "<table border=\"1\" class=\"dataframe\">\n",
       "  <thead>\n",
       "    <tr style=\"text-align: right;\">\n",
       "      <th></th>\n",
       "      <th>keyword</th>\n",
       "      <th>location</th>\n",
       "      <th>text</th>\n",
       "      <th>target</th>\n",
       "    </tr>\n",
       "    <tr>\n",
       "      <th>id</th>\n",
       "      <th></th>\n",
       "      <th></th>\n",
       "      <th></th>\n",
       "      <th></th>\n",
       "    </tr>\n",
       "  </thead>\n",
       "  <tbody>\n",
       "    <tr>\n",
       "      <th>1</th>\n",
       "      <td>NaN</td>\n",
       "      <td>NaN</td>\n",
       "      <td>Our Deeds are the Reason of this #earthquake M...</td>\n",
       "      <td>1</td>\n",
       "    </tr>\n",
       "    <tr>\n",
       "      <th>4</th>\n",
       "      <td>NaN</td>\n",
       "      <td>NaN</td>\n",
       "      <td>Forest fire near La Ronge Sask. Canada</td>\n",
       "      <td>1</td>\n",
       "    </tr>\n",
       "    <tr>\n",
       "      <th>5</th>\n",
       "      <td>NaN</td>\n",
       "      <td>NaN</td>\n",
       "      <td>All residents asked to 'shelter in place' are ...</td>\n",
       "      <td>1</td>\n",
       "    </tr>\n",
       "    <tr>\n",
       "      <th>6</th>\n",
       "      <td>NaN</td>\n",
       "      <td>NaN</td>\n",
       "      <td>13,000 people receive #wildfires evacuation or...</td>\n",
       "      <td>1</td>\n",
       "    </tr>\n",
       "    <tr>\n",
       "      <th>7</th>\n",
       "      <td>NaN</td>\n",
       "      <td>NaN</td>\n",
       "      <td>Just got sent this photo from Ruby #Alaska as ...</td>\n",
       "      <td>1</td>\n",
       "    </tr>\n",
       "    <tr>\n",
       "      <th>...</th>\n",
       "      <td>...</td>\n",
       "      <td>...</td>\n",
       "      <td>...</td>\n",
       "      <td>...</td>\n",
       "    </tr>\n",
       "    <tr>\n",
       "      <th>10869</th>\n",
       "      <td>NaN</td>\n",
       "      <td>NaN</td>\n",
       "      <td>Two giant cranes holding a bridge collapse int...</td>\n",
       "      <td>1</td>\n",
       "    </tr>\n",
       "    <tr>\n",
       "      <th>10870</th>\n",
       "      <td>NaN</td>\n",
       "      <td>NaN</td>\n",
       "      <td>@aria_ahrary @TheTawniest The out of control w...</td>\n",
       "      <td>1</td>\n",
       "    </tr>\n",
       "    <tr>\n",
       "      <th>10871</th>\n",
       "      <td>NaN</td>\n",
       "      <td>NaN</td>\n",
       "      <td>M1.94 [01:04 UTC]?5km S of Volcano Hawaii. htt...</td>\n",
       "      <td>1</td>\n",
       "    </tr>\n",
       "    <tr>\n",
       "      <th>10872</th>\n",
       "      <td>NaN</td>\n",
       "      <td>NaN</td>\n",
       "      <td>Police investigating after an e-bike collided ...</td>\n",
       "      <td>1</td>\n",
       "    </tr>\n",
       "    <tr>\n",
       "      <th>10873</th>\n",
       "      <td>NaN</td>\n",
       "      <td>NaN</td>\n",
       "      <td>The Latest: More Homes Razed by Northern Calif...</td>\n",
       "      <td>1</td>\n",
       "    </tr>\n",
       "  </tbody>\n",
       "</table>\n",
       "<p>7613 rows × 4 columns</p>\n",
       "</div>"
      ],
      "text/plain": [
       "      keyword location                                               text  \\\n",
       "id                                                                          \n",
       "1         NaN      NaN  Our Deeds are the Reason of this #earthquake M...   \n",
       "4         NaN      NaN             Forest fire near La Ronge Sask. Canada   \n",
       "5         NaN      NaN  All residents asked to 'shelter in place' are ...   \n",
       "6         NaN      NaN  13,000 people receive #wildfires evacuation or...   \n",
       "7         NaN      NaN  Just got sent this photo from Ruby #Alaska as ...   \n",
       "...       ...      ...                                                ...   \n",
       "10869     NaN      NaN  Two giant cranes holding a bridge collapse int...   \n",
       "10870     NaN      NaN  @aria_ahrary @TheTawniest The out of control w...   \n",
       "10871     NaN      NaN  M1.94 [01:04 UTC]?5km S of Volcano Hawaii. htt...   \n",
       "10872     NaN      NaN  Police investigating after an e-bike collided ...   \n",
       "10873     NaN      NaN  The Latest: More Homes Razed by Northern Calif...   \n",
       "\n",
       "       target  \n",
       "id             \n",
       "1           1  \n",
       "4           1  \n",
       "5           1  \n",
       "6           1  \n",
       "7           1  \n",
       "...       ...  \n",
       "10869       1  \n",
       "10870       1  \n",
       "10871       1  \n",
       "10872       1  \n",
       "10873       1  \n",
       "\n",
       "[7613 rows x 4 columns]"
      ]
     },
     "execution_count": 2,
     "metadata": {},
     "output_type": "execute_result"
    }
   ],
   "source": [
    "df = pd.read_csv(\"~/train.csv\", index_col=\"id\")\n",
    "df"
   ]
  },
  {
   "cell_type": "code",
   "execution_count": 3,
   "metadata": {
    "execution": {
     "iopub.execute_input": "2021-09-03T08:29:59.437118Z",
     "iopub.status.busy": "2021-09-03T08:29:59.436768Z",
     "iopub.status.idle": "2021-09-03T08:29:59.489006Z",
     "shell.execute_reply": "2021-09-03T08:29:59.488082Z",
     "shell.execute_reply.started": "2021-09-03T08:29:59.437082Z"
    }
   },
   "outputs": [
    {
     "data": {
      "text/html": [
       "<div>\n",
       "<style scoped>\n",
       "    .dataframe tbody tr th:only-of-type {\n",
       "        vertical-align: middle;\n",
       "    }\n",
       "\n",
       "    .dataframe tbody tr th {\n",
       "        vertical-align: top;\n",
       "    }\n",
       "\n",
       "    .dataframe thead th {\n",
       "        text-align: right;\n",
       "    }\n",
       "</style>\n",
       "<table border=\"1\" class=\"dataframe\">\n",
       "  <thead>\n",
       "    <tr style=\"text-align: right;\">\n",
       "      <th></th>\n",
       "      <th>keyword</th>\n",
       "      <th>location</th>\n",
       "      <th>text</th>\n",
       "    </tr>\n",
       "    <tr>\n",
       "      <th>id</th>\n",
       "      <th></th>\n",
       "      <th></th>\n",
       "      <th></th>\n",
       "    </tr>\n",
       "  </thead>\n",
       "  <tbody>\n",
       "    <tr>\n",
       "      <th>0</th>\n",
       "      <td>NaN</td>\n",
       "      <td>NaN</td>\n",
       "      <td>Just happened a terrible car crash</td>\n",
       "    </tr>\n",
       "    <tr>\n",
       "      <th>2</th>\n",
       "      <td>NaN</td>\n",
       "      <td>NaN</td>\n",
       "      <td>Heard about #earthquake is different cities, s...</td>\n",
       "    </tr>\n",
       "    <tr>\n",
       "      <th>3</th>\n",
       "      <td>NaN</td>\n",
       "      <td>NaN</td>\n",
       "      <td>there is a forest fire at spot pond, geese are...</td>\n",
       "    </tr>\n",
       "    <tr>\n",
       "      <th>9</th>\n",
       "      <td>NaN</td>\n",
       "      <td>NaN</td>\n",
       "      <td>Apocalypse lighting. #Spokane #wildfires</td>\n",
       "    </tr>\n",
       "    <tr>\n",
       "      <th>11</th>\n",
       "      <td>NaN</td>\n",
       "      <td>NaN</td>\n",
       "      <td>Typhoon Soudelor kills 28 in China and Taiwan</td>\n",
       "    </tr>\n",
       "    <tr>\n",
       "      <th>...</th>\n",
       "      <td>...</td>\n",
       "      <td>...</td>\n",
       "      <td>...</td>\n",
       "    </tr>\n",
       "    <tr>\n",
       "      <th>10861</th>\n",
       "      <td>NaN</td>\n",
       "      <td>NaN</td>\n",
       "      <td>EARTHQUAKE SAFETY LOS ANGELES ÛÒ SAFETY FASTE...</td>\n",
       "    </tr>\n",
       "    <tr>\n",
       "      <th>10865</th>\n",
       "      <td>NaN</td>\n",
       "      <td>NaN</td>\n",
       "      <td>Storm in RI worse than last hurricane. My city...</td>\n",
       "    </tr>\n",
       "    <tr>\n",
       "      <th>10868</th>\n",
       "      <td>NaN</td>\n",
       "      <td>NaN</td>\n",
       "      <td>Green Line derailment in Chicago http://t.co/U...</td>\n",
       "    </tr>\n",
       "    <tr>\n",
       "      <th>10874</th>\n",
       "      <td>NaN</td>\n",
       "      <td>NaN</td>\n",
       "      <td>MEG issues Hazardous Weather Outlook (HWO) htt...</td>\n",
       "    </tr>\n",
       "    <tr>\n",
       "      <th>10875</th>\n",
       "      <td>NaN</td>\n",
       "      <td>NaN</td>\n",
       "      <td>#CityofCalgary has activated its Municipal Eme...</td>\n",
       "    </tr>\n",
       "  </tbody>\n",
       "</table>\n",
       "<p>3263 rows × 3 columns</p>\n",
       "</div>"
      ],
      "text/plain": [
       "      keyword location                                               text\n",
       "id                                                                       \n",
       "0         NaN      NaN                 Just happened a terrible car crash\n",
       "2         NaN      NaN  Heard about #earthquake is different cities, s...\n",
       "3         NaN      NaN  there is a forest fire at spot pond, geese are...\n",
       "9         NaN      NaN           Apocalypse lighting. #Spokane #wildfires\n",
       "11        NaN      NaN      Typhoon Soudelor kills 28 in China and Taiwan\n",
       "...       ...      ...                                                ...\n",
       "10861     NaN      NaN  EARTHQUAKE SAFETY LOS ANGELES ÛÒ SAFETY FASTE...\n",
       "10865     NaN      NaN  Storm in RI worse than last hurricane. My city...\n",
       "10868     NaN      NaN  Green Line derailment in Chicago http://t.co/U...\n",
       "10874     NaN      NaN  MEG issues Hazardous Weather Outlook (HWO) htt...\n",
       "10875     NaN      NaN  #CityofCalgary has activated its Municipal Eme...\n",
       "\n",
       "[3263 rows x 3 columns]"
      ]
     },
     "execution_count": 3,
     "metadata": {},
     "output_type": "execute_result"
    }
   ],
   "source": [
    "val = pd.read_csv(\"~/test.csv\", index_col=\"id\")\n",
    "val"
   ]
  },
  {
   "cell_type": "markdown",
   "metadata": {},
   "source": [
    "# Explore and clean the data"
   ]
  },
  {
   "cell_type": "code",
   "execution_count": 4,
   "metadata": {
    "execution": {
     "iopub.execute_input": "2021-09-03T08:29:59.491408Z",
     "iopub.status.busy": "2021-09-03T08:29:59.490976Z",
     "iopub.status.idle": "2021-09-03T08:29:59.513560Z",
     "shell.execute_reply": "2021-09-03T08:29:59.512471Z",
     "shell.execute_reply.started": "2021-09-03T08:29:59.491365Z"
    }
   },
   "outputs": [
    {
     "name": "stdout",
     "output_type": "stream",
     "text": [
      "<class 'pandas.core.frame.DataFrame'>\n",
      "Int64Index: 7613 entries, 1 to 10873\n",
      "Data columns (total 4 columns):\n",
      " #   Column    Non-Null Count  Dtype \n",
      "---  ------    --------------  ----- \n",
      " 0   keyword   7552 non-null   object\n",
      " 1   location  5080 non-null   object\n",
      " 2   text      7613 non-null   object\n",
      " 3   target    7613 non-null   int64 \n",
      "dtypes: int64(1), object(3)\n",
      "memory usage: 297.4+ KB\n"
     ]
    }
   ],
   "source": [
    "df.info()"
   ]
  },
  {
   "cell_type": "code",
   "execution_count": 5,
   "metadata": {
    "execution": {
     "iopub.execute_input": "2021-09-03T08:29:59.515724Z",
     "iopub.status.busy": "2021-09-03T08:29:59.515278Z",
     "iopub.status.idle": "2021-09-03T08:29:59.988043Z",
     "shell.execute_reply": "2021-09-03T08:29:59.987242Z",
     "shell.execute_reply.started": "2021-09-03T08:29:59.515677Z"
    }
   },
   "outputs": [
    {
     "name": "stdout",
     "output_type": "stream",
     "text": [
      "keyword       61\n",
      "location    2533\n",
      "text           0\n",
      "target         0\n",
      "dtype: int64\n"
     ]
    },
    {
     "data": {
      "image/png": "[encoded data removed]",
      "text/plain": [
       "<Figure size 432x288 with 2 Axes>"
      ]
     },
     "metadata": {
      "needs_background": "light"
     },
     "output_type": "display_data"
    }
   ],
   "source": [
    "# Look for missing data\n",
    "sns.heatmap(df.isnull())\n",
    "print(df.isnull().sum())"
   ]
  },
  {
   "cell_type": "markdown",
   "metadata": {},
   "source": [
    "**From the above, it looks like we're missing a few keywords and a signficant number of locations**"
   ]
  },
  {
   "cell_type": "code",
   "execution_count": 6,
   "metadata": {
    "execution": {
     "iopub.execute_input": "2021-09-03T08:29:59.989579Z",
     "iopub.status.busy": "2021-09-03T08:29:59.989123Z",
     "iopub.status.idle": "2021-09-03T08:30:00.004167Z",
     "shell.execute_reply": "2021-09-03T08:30:00.003014Z",
     "shell.execute_reply.started": "2021-09-03T08:29:59.989541Z"
    }
   },
   "outputs": [
    {
     "data": {
      "text/plain": [
       "USA                       104\n",
       "New York                   71\n",
       "United States              50\n",
       "London                     45\n",
       "Canada                     29\n",
       "                         ... \n",
       "Eagle Mountain, Texas       1\n",
       "Anywhere Safe               1\n",
       "Stay Tuned ;)               1\n",
       "San Juan, Puerto Rico       1\n",
       "Brum/Lestah                 1\n",
       "Name: location, Length: 3341, dtype: int64"
      ]
     },
     "execution_count": 6,
     "metadata": {},
     "output_type": "execute_result"
    }
   ],
   "source": [
    "df[~df[\"location\"].isnull()][\"location\"].value_counts()"
   ]
  },
  {
   "cell_type": "code",
   "execution_count": 7,
   "metadata": {
    "execution": {
     "iopub.execute_input": "2021-09-03T08:30:00.006054Z",
     "iopub.status.busy": "2021-09-03T08:30:00.005526Z",
     "iopub.status.idle": "2021-09-03T08:30:00.015316Z",
     "shell.execute_reply": "2021-09-03T08:30:00.014417Z",
     "shell.execute_reply.started": "2021-09-03T08:30:00.006020Z"
    }
   },
   "outputs": [
    {
     "data": {
      "text/plain": [
       "3341"
      ]
     },
     "execution_count": 7,
     "metadata": {},
     "output_type": "execute_result"
    }
   ],
   "source": [
    "df[\"location\"].nunique()"
   ]
  },
  {
   "cell_type": "markdown",
   "metadata": {},
   "source": [
    "**It also appears that there are far too many locations to really be useful - let's just drop location from the mix in the future**"
   ]
  },
  {
   "cell_type": "code",
   "execution_count": 8,
   "metadata": {
    "execution": {
     "iopub.execute_input": "2021-09-03T08:30:00.018123Z",
     "iopub.status.busy": "2021-09-03T08:30:00.017736Z",
     "iopub.status.idle": "2021-09-03T08:30:00.033353Z",
     "shell.execute_reply": "2021-09-03T08:30:00.031952Z",
     "shell.execute_reply.started": "2021-09-03T08:30:00.018088Z"
    }
   },
   "outputs": [
    {
     "data": {
      "text/plain": [
       "array(['ablaze', 'accident', 'aftershock', 'airplane%20accident',\n",
       "       'ambulance', 'annihilated', 'annihilation', 'apocalypse',\n",
       "       'armageddon', 'army', 'arson', 'arsonist', 'attack', 'attacked',\n",
       "       'avalanche', 'battle', 'bioterror', 'bioterrorism', 'blaze',\n",
       "       'blazing', 'bleeding', 'blew%20up', 'blight', 'blizzard', 'blood',\n",
       "       'bloody', 'blown%20up', 'body%20bag', 'body%20bagging',\n",
       "       'body%20bags', 'bomb', 'bombed', 'bombing', 'bridge%20collapse',\n",
       "       'buildings%20burning', 'buildings%20on%20fire', 'burned',\n",
       "       'burning', 'burning%20buildings', 'bush%20fires', 'casualties',\n",
       "       'casualty', 'catastrophe', 'catastrophic', 'chemical%20emergency',\n",
       "       'cliff%20fall', 'collapse', 'collapsed', 'collide', 'collided',\n",
       "       'collision', 'crash', 'crashed', 'crush', 'crushed', 'curfew',\n",
       "       'cyclone', 'damage', 'danger', 'dead', 'death', 'deaths', 'debris',\n",
       "       'deluge', 'deluged', 'demolish', 'demolished', 'demolition',\n",
       "       'derail', 'derailed', 'derailment', 'desolate', 'desolation',\n",
       "       'destroy', 'destroyed', 'destruction', 'detonate', 'detonation',\n",
       "       'devastated', 'devastation', 'disaster', 'displaced', 'drought',\n",
       "       'drown', 'drowned', 'drowning', 'dust%20storm', 'earthquake',\n",
       "       'electrocute', 'electrocuted', 'emergency', 'emergency%20plan',\n",
       "       'emergency%20services', 'engulfed', 'epicentre', 'evacuate',\n",
       "       'evacuated', 'evacuation', 'explode', 'exploded', 'explosion',\n",
       "       'eyewitness', 'famine', 'fatal', 'fatalities', 'fatality', 'fear',\n",
       "       'fire', 'fire%20truck', 'first%20responders', 'flames',\n",
       "       'flattened', 'flood', 'flooding', 'floods', 'forest%20fire',\n",
       "       'forest%20fires', 'hail', 'hailstorm', 'harm', 'hazard',\n",
       "       'hazardous', 'heat%20wave', 'hellfire', 'hijack', 'hijacker',\n",
       "       'hijacking', 'hostage', 'hostages', 'hurricane', 'injured',\n",
       "       'injuries', 'injury', 'inundated', 'inundation', 'landslide',\n",
       "       'lava', 'lightning', 'loud%20bang', 'mass%20murder',\n",
       "       'mass%20murderer', 'massacre', 'mayhem', 'meltdown', 'military',\n",
       "       'mudslide', 'natural%20disaster', 'nuclear%20disaster',\n",
       "       'nuclear%20reactor', 'obliterate', 'obliterated', 'obliteration',\n",
       "       'oil%20spill', 'outbreak', 'pandemonium', 'panic', 'panicking',\n",
       "       'police', 'quarantine', 'quarantined', 'radiation%20emergency',\n",
       "       'rainstorm', 'razed', 'refugees', 'rescue', 'rescued', 'rescuers',\n",
       "       'riot', 'rioting', 'rubble', 'ruin', 'sandstorm', 'screamed',\n",
       "       'screaming', 'screams', 'seismic', 'sinkhole', 'sinking', 'siren',\n",
       "       'sirens', 'smoke', 'snowstorm', 'storm', 'stretcher',\n",
       "       'structural%20failure', 'suicide%20bomb', 'suicide%20bomber',\n",
       "       'suicide%20bombing', 'sunk', 'survive', 'survived', 'survivors',\n",
       "       'terrorism', 'terrorist', 'threat', 'thunder', 'thunderstorm',\n",
       "       'tornado', 'tragedy', 'trapped', 'trauma', 'traumatised',\n",
       "       'trouble', 'tsunami', 'twister', 'typhoon', 'upheaval',\n",
       "       'violent%20storm', 'volcano', 'war%20zone', 'weapon', 'weapons',\n",
       "       'whirlwind', 'wild%20fires', 'wildfire', 'windstorm', 'wounded',\n",
       "       'wounds', 'wreck', 'wreckage', 'wrecked'], dtype=object)"
      ]
     },
     "execution_count": 8,
     "metadata": {},
     "output_type": "execute_result"
    }
   ],
   "source": [
    "df[~df[\"keyword\"].isnull()][\"keyword\"].unique()"
   ]
  },
  {
   "cell_type": "markdown",
   "metadata": {},
   "source": [
    "**It looks like our keywords are also URL encoded - we should remember to clean those up before performing processing**"
   ]
  },
  {
   "cell_type": "code",
   "execution_count": 9,
   "metadata": {
    "execution": {
     "iopub.execute_input": "2021-09-03T08:30:00.036246Z",
     "iopub.status.busy": "2021-09-03T08:30:00.035756Z",
     "iopub.status.idle": "2021-09-03T08:30:00.053427Z",
     "shell.execute_reply": "2021-09-03T08:30:00.052119Z",
     "shell.execute_reply.started": "2021-09-03T08:30:00.036195Z"
    }
   },
   "outputs": [
    {
     "data": {
      "text/html": [
       "<div>\n",
       "<style scoped>\n",
       "    .dataframe tbody tr th:only-of-type {\n",
       "        vertical-align: middle;\n",
       "    }\n",
       "\n",
       "    .dataframe tbody tr th {\n",
       "        vertical-align: top;\n",
       "    }\n",
       "\n",
       "    .dataframe thead th {\n",
       "        text-align: right;\n",
       "    }\n",
       "</style>\n",
       "<table border=\"1\" class=\"dataframe\">\n",
       "  <thead>\n",
       "    <tr style=\"text-align: right;\">\n",
       "      <th></th>\n",
       "      <th>keyword</th>\n",
       "      <th>location</th>\n",
       "      <th>text</th>\n",
       "      <th>target</th>\n",
       "    </tr>\n",
       "    <tr>\n",
       "      <th>id</th>\n",
       "      <th></th>\n",
       "      <th></th>\n",
       "      <th></th>\n",
       "      <th></th>\n",
       "    </tr>\n",
       "  </thead>\n",
       "  <tbody>\n",
       "    <tr>\n",
       "      <th>1</th>\n",
       "      <td>NaN</td>\n",
       "      <td>NaN</td>\n",
       "      <td>Our Deeds are the Reason of this #earthquake M...</td>\n",
       "      <td>1</td>\n",
       "    </tr>\n",
       "    <tr>\n",
       "      <th>4</th>\n",
       "      <td>NaN</td>\n",
       "      <td>NaN</td>\n",
       "      <td>Forest fire near La Ronge Sask. Canada</td>\n",
       "      <td>1</td>\n",
       "    </tr>\n",
       "    <tr>\n",
       "      <th>5</th>\n",
       "      <td>NaN</td>\n",
       "      <td>NaN</td>\n",
       "      <td>All residents asked to 'shelter in place' are ...</td>\n",
       "      <td>1</td>\n",
       "    </tr>\n",
       "    <tr>\n",
       "      <th>6</th>\n",
       "      <td>NaN</td>\n",
       "      <td>NaN</td>\n",
       "      <td>13,000 people receive #wildfires evacuation or...</td>\n",
       "      <td>1</td>\n",
       "    </tr>\n",
       "    <tr>\n",
       "      <th>7</th>\n",
       "      <td>NaN</td>\n",
       "      <td>NaN</td>\n",
       "      <td>Just got sent this photo from Ruby #Alaska as ...</td>\n",
       "      <td>1</td>\n",
       "    </tr>\n",
       "    <tr>\n",
       "      <th>...</th>\n",
       "      <td>...</td>\n",
       "      <td>...</td>\n",
       "      <td>...</td>\n",
       "      <td>...</td>\n",
       "    </tr>\n",
       "    <tr>\n",
       "      <th>10869</th>\n",
       "      <td>NaN</td>\n",
       "      <td>NaN</td>\n",
       "      <td>Two giant cranes holding a bridge collapse int...</td>\n",
       "      <td>1</td>\n",
       "    </tr>\n",
       "    <tr>\n",
       "      <th>10870</th>\n",
       "      <td>NaN</td>\n",
       "      <td>NaN</td>\n",
       "      <td>@aria_ahrary @TheTawniest The out of control w...</td>\n",
       "      <td>1</td>\n",
       "    </tr>\n",
       "    <tr>\n",
       "      <th>10871</th>\n",
       "      <td>NaN</td>\n",
       "      <td>NaN</td>\n",
       "      <td>M1.94 [01:04 UTC]?5km S of Volcano Hawaii. htt...</td>\n",
       "      <td>1</td>\n",
       "    </tr>\n",
       "    <tr>\n",
       "      <th>10872</th>\n",
       "      <td>NaN</td>\n",
       "      <td>NaN</td>\n",
       "      <td>Police investigating after an e-bike collided ...</td>\n",
       "      <td>1</td>\n",
       "    </tr>\n",
       "    <tr>\n",
       "      <th>10873</th>\n",
       "      <td>NaN</td>\n",
       "      <td>NaN</td>\n",
       "      <td>The Latest: More Homes Razed by Northern Calif...</td>\n",
       "      <td>1</td>\n",
       "    </tr>\n",
       "  </tbody>\n",
       "</table>\n",
       "<p>7613 rows × 4 columns</p>\n",
       "</div>"
      ],
      "text/plain": [
       "      keyword location                                               text  \\\n",
       "id                                                                          \n",
       "1         NaN      NaN  Our Deeds are the Reason of this #earthquake M...   \n",
       "4         NaN      NaN             Forest fire near La Ronge Sask. Canada   \n",
       "5         NaN      NaN  All residents asked to 'shelter in place' are ...   \n",
       "6         NaN      NaN  13,000 people receive #wildfires evacuation or...   \n",
       "7         NaN      NaN  Just got sent this photo from Ruby #Alaska as ...   \n",
       "...       ...      ...                                                ...   \n",
       "10869     NaN      NaN  Two giant cranes holding a bridge collapse int...   \n",
       "10870     NaN      NaN  @aria_ahrary @TheTawniest The out of control w...   \n",
       "10871     NaN      NaN  M1.94 [01:04 UTC]?5km S of Volcano Hawaii. htt...   \n",
       "10872     NaN      NaN  Police investigating after an e-bike collided ...   \n",
       "10873     NaN      NaN  The Latest: More Homes Razed by Northern Calif...   \n",
       "\n",
       "       target  \n",
       "id             \n",
       "1           1  \n",
       "4           1  \n",
       "5           1  \n",
       "6           1  \n",
       "7           1  \n",
       "...       ...  \n",
       "10869       1  \n",
       "10870       1  \n",
       "10871       1  \n",
       "10872       1  \n",
       "10873       1  \n",
       "\n",
       "[7613 rows x 4 columns]"
      ]
     },
     "execution_count": 9,
     "metadata": {},
     "output_type": "execute_result"
    }
   ],
   "source": [
    "df"
   ]
  },
  {
   "cell_type": "markdown",
   "metadata": {},
   "source": [
    "**We could try to impute a cleaner country from the location, and if it doesn't find one, maybe the text? We can use named entity recognition for this:**"
   ]
  },
  {
   "cell_type": "code",
   "execution_count": 10,
   "metadata": {
    "execution": {
     "iopub.execute_input": "2021-09-03T08:30:00.055701Z",
     "iopub.status.busy": "2021-09-03T08:30:00.054907Z",
     "iopub.status.idle": "2021-09-03T08:30:00.067342Z",
     "shell.execute_reply": "2021-09-03T08:30:00.066344Z",
     "shell.execute_reply.started": "2021-09-03T08:30:00.055650Z"
    }
   },
   "outputs": [
    {
     "name": "stdout",
     "output_type": "stream",
     "text": [
      "LOC:  Non-GPE locations, mountain ranges, bodies of water\n",
      "GPE:  Countries, cities, states\n"
     ]
    }
   ],
   "source": [
    "print(\"LOC: \", spacy.explain(\"LOC\"))\n",
    "print(\"GPE: \", spacy.explain(\"GPE\"))"
   ]
  },
  {
   "cell_type": "code",
   "execution_count": 11,
   "metadata": {
    "execution": {
     "iopub.execute_input": "2021-09-03T08:30:00.069421Z",
     "iopub.status.busy": "2021-09-03T08:30:00.068988Z",
     "iopub.status.idle": "2021-09-03T08:30:00.079759Z",
     "shell.execute_reply": "2021-09-03T08:30:00.078952Z",
     "shell.execute_reply.started": "2021-09-03T08:30:00.069389Z"
    }
   },
   "outputs": [],
   "source": [
    "def impute_location(doc, rev=False):\n",
    "    \"\"\"\n",
    "    Tries to extract a location from the document.\n",
    "    Implemented reversal of string to try get most macroscopic entity first (e.g. AU from 42 Wallaby Way, Sydney, AU)\n",
    "    \"\"\"\n",
    "    ents = doc.ents\n",
    "    if rev:\n",
    "        ents = reversed(ents)\n",
    "    for ent in doc.ents:\n",
    "        if ent.label_ == \"GPE\":\n",
    "            return ent.text\n",
    "    return np.nan"
   ]
  },
  {
   "cell_type": "markdown",
   "metadata": {},
   "source": [
    "**Lets test the above to see just how effective it would be**"
   ]
  },
  {
   "cell_type": "code",
   "execution_count": 12,
   "metadata": {
    "execution": {
     "iopub.execute_input": "2021-09-03T08:30:00.081224Z",
     "iopub.status.busy": "2021-09-03T08:30:00.080807Z",
     "iopub.status.idle": "2021-09-03T08:30:12.320461Z",
     "shell.execute_reply": "2021-09-03T08:30:12.318950Z",
     "shell.execute_reply.started": "2021-09-03T08:30:00.081195Z"
    }
   },
   "outputs": [
    {
     "data": {
      "application/vnd.jupyter.widget-view+json": {
       "model_id": "01d8dfd3d0b846b78dc7dc30563f5bd9",
       "version_major": 2,
       "version_minor": 0
      },
      "text/plain": [
       "VBox(children=(HBox(children=(IntProgress(value=0, description='0.00%', max=317), Label(value='0 / 317'))), HB…"
      ]
     },
     "metadata": {},
     "output_type": "display_data"
    },
    {
     "name": "stdout",
     "output_type": "stream",
     "text": [
      "Imputed locations from text. Previously had 2533/7613 (33.3%) missing locations - now have 2093/7613 (27.5%), an improvement of 440 rows (5.8% of total df)\n"
     ]
    }
   ],
   "source": [
    "total_len = len(df)\n",
    "loc_missing_bef = df[\"location\"].isnull().sum()\n",
    "loc_missing_aft = df[df[\"location\"].isnull()][\"text\"].parallel_apply(lambda x: impute_location(nlp(x))).isnull().sum()\n",
    "print(f\"Imputed locations from text. Previously had {loc_missing_bef}/{total_len} ({100*loc_missing_bef/total_len:.1f}%) missing locations - now have {loc_missing_aft}/{total_len} ({100*loc_missing_aft/total_len:.1f}%), an improvement of {loc_missing_bef-loc_missing_aft} rows ({100*(loc_missing_bef-loc_missing_aft)/total_len:.1f}% of total df)\")"
   ]
  },
  {
   "cell_type": "markdown",
   "metadata": {},
   "source": [
    "Unfortunately there's not really much of an improvement here to warrant including it in the dataset. Let's just drop it"
   ]
  },
  {
   "cell_type": "markdown",
   "metadata": {},
   "source": [
    "**We can also try to do something similar with the keyword, likely with more success given there are less missing values**"
   ]
  },
  {
   "cell_type": "code",
   "execution_count": 13,
   "metadata": {
    "execution": {
     "iopub.execute_input": "2021-09-03T08:30:12.323527Z",
     "iopub.status.busy": "2021-09-03T08:30:12.322833Z",
     "iopub.status.idle": "2021-09-03T08:30:12.335138Z",
     "shell.execute_reply": "2021-09-03T08:30:12.333927Z",
     "shell.execute_reply.started": "2021-09-03T08:30:12.323467Z"
    }
   },
   "outputs": [],
   "source": [
    "import re\n",
    "kw_pat = re.compile(r\"#(\\w+)\", flags=re.IGNORECASE)\n",
    "\n",
    "def impute_keyword(doc):\n",
    "    \"\"\"\n",
    "    Look for matches in the doc text starting in a hashtag.\n",
    "    If one is found, return it's vector. If more than one are found, return the pairwise mean of the vectors across their axes. If no hashtag is found, return NaN to be filtered out later\n",
    "    \"\"\"\n",
    "    matches = kw_pat.findall(doc.text)\n",
    "    if matches:\n",
    "        if len(matches) == 1:\n",
    "            return nlp(unquote(matches[0])).vector\n",
    "        else:\n",
    "            return np.mean([nlp(unquote(m)).vector for m in matches], axis=0)\n",
    "    else:\n",
    "        return []"
   ]
  },
  {
   "cell_type": "markdown",
   "metadata": {},
   "source": [
    "**We can now build our preprocessing pipeline. I've implemented this in parallel to speed up the word vector assignment. Whilst SpaCy does have a parallel batch processing option, unfortunately it can be a little complicated to do data cleansing at the same time**"
   ]
  },
  {
   "cell_type": "code",
   "execution_count": 16,
   "metadata": {
    "execution": {
     "iopub.execute_input": "2021-09-03T08:30:12.337605Z",
     "iopub.status.busy": "2021-09-03T08:30:12.336937Z",
     "iopub.status.idle": "2021-09-03T08:30:12.354441Z",
     "shell.execute_reply": "2021-09-03T08:30:12.353516Z",
     "shell.execute_reply.started": "2021-09-03T08:30:12.337556Z"
    }
   },
   "outputs": [],
   "source": [
    "re_url = re.compile(r\"(https?:\\/\\/)?(www\\.)?[-a-zA-Z0-9@:%._\\+~#=]{2,256}\\.[a-z]{2,4}\\b([-a-zA-Z0-9@:%_\\+.~#?&//=]*)\", flags=re.IGNORECASE)\n",
    "from tqdm import tqdm\n",
    "\n",
    "def preprocess_row(row, train=False):\n",
    "    \"\"\"\n",
    "    Preprocessing step for each row.\n",
    "    This will convert the text into vector spaces and expand them into a single series for use by the classifier.\n",
    "    \"\"\"\n",
    "    data = {}\n",
    "    if train:\n",
    "        data[\"target\"] = row[\"target\"]\n",
    "    for i, v in enumerate([*nlp(row[\"text\"]).vector]):\n",
    "        data[str(i)] = v\n",
    "    return pd.Series(data)\n",
    "\n",
    "def preprocess_df(df, dropna=True, train=True):\n",
    "    \"\"\"\n",
    "    Preprocess the dataframe for use by the classifier.\n",
    "    Includes vectorising both text fields and handling missing values.\n",
    "    \"\"\"\n",
    "    # Preprocess row by row\n",
    "    rows = {}\n",
    "    for i, row in df.iterrows():\n",
    "        new_row = preprocess_row(row, train)\n",
    "        rows[i] = new_row\n",
    "    new_df = pd.concat(rows, axis=1).T\n",
    "    \n",
    "    new_df[\"chars\"] = df[\"text\"].apply(lambda x: len(x))\n",
    "    \n",
    "    new_df[\"words\"] = df[\"text\"].apply(lambda x: len(x.split(\" \")))\n",
    "\n",
    "    new_df[\"contains_url\"] = df[\"text\"].apply(lambda x: len(re_url.findall(x)))\n",
    "    \n",
    "    return new_df"
   ]
  },
  {
   "cell_type": "code",
   "execution_count": 17,
   "metadata": {
    "execution": {
     "iopub.execute_input": "2021-09-03T08:30:12.356311Z",
     "iopub.status.busy": "2021-09-03T08:30:12.355934Z",
     "iopub.status.idle": "2021-09-03T08:32:49.366754Z",
     "shell.execute_reply": "2021-09-03T08:32:49.365837Z",
     "shell.execute_reply.started": "2021-09-03T08:30:12.356276Z"
    }
   },
   "outputs": [
    {
     "data": {
      "text/html": [
       "<div>\n",
       "<style scoped>\n",
       "    .dataframe tbody tr th:only-of-type {\n",
       "        vertical-align: middle;\n",
       "    }\n",
       "\n",
       "    .dataframe tbody tr th {\n",
       "        vertical-align: top;\n",
       "    }\n",
       "\n",
       "    .dataframe thead th {\n",
       "        text-align: right;\n",
       "    }\n",
       "</style>\n",
       "<table border=\"1\" class=\"dataframe\">\n",
       "  <thead>\n",
       "    <tr style=\"text-align: right;\">\n",
       "      <th></th>\n",
       "      <th>target</th>\n",
       "      <th>0</th>\n",
       "      <th>1</th>\n",
       "      <th>2</th>\n",
       "      <th>3</th>\n",
       "      <th>4</th>\n",
       "      <th>5</th>\n",
       "      <th>6</th>\n",
       "      <th>7</th>\n",
       "      <th>8</th>\n",
       "      <th>...</th>\n",
       "      <th>293</th>\n",
       "      <th>294</th>\n",
       "      <th>295</th>\n",
       "      <th>296</th>\n",
       "      <th>297</th>\n",
       "      <th>298</th>\n",
       "      <th>299</th>\n",
       "      <th>chars</th>\n",
       "      <th>words</th>\n",
       "      <th>contains_url</th>\n",
       "    </tr>\n",
       "  </thead>\n",
       "  <tbody>\n",
       "    <tr>\n",
       "      <th>1</th>\n",
       "      <td>1.0</td>\n",
       "      <td>-0.278979</td>\n",
       "      <td>0.103926</td>\n",
       "      <td>-0.099896</td>\n",
       "      <td>-0.033250</td>\n",
       "      <td>0.006406</td>\n",
       "      <td>-0.127988</td>\n",
       "      <td>0.015576</td>\n",
       "      <td>0.162036</td>\n",
       "      <td>0.019861</td>\n",
       "      <td>...</td>\n",
       "      <td>-0.059484</td>\n",
       "      <td>0.200914</td>\n",
       "      <td>-0.077234</td>\n",
       "      <td>-0.056179</td>\n",
       "      <td>0.045646</td>\n",
       "      <td>-0.063259</td>\n",
       "      <td>-0.056399</td>\n",
       "      <td>69</td>\n",
       "      <td>13</td>\n",
       "      <td>0</td>\n",
       "    </tr>\n",
       "    <tr>\n",
       "      <th>4</th>\n",
       "      <td>1.0</td>\n",
       "      <td>-0.020768</td>\n",
       "      <td>0.053068</td>\n",
       "      <td>-0.151928</td>\n",
       "      <td>-0.275765</td>\n",
       "      <td>0.278003</td>\n",
       "      <td>0.105984</td>\n",
       "      <td>0.237008</td>\n",
       "      <td>-0.066866</td>\n",
       "      <td>-0.185964</td>\n",
       "      <td>...</td>\n",
       "      <td>-0.038636</td>\n",
       "      <td>0.082291</td>\n",
       "      <td>0.110084</td>\n",
       "      <td>0.001230</td>\n",
       "      <td>-0.054747</td>\n",
       "      <td>-0.254972</td>\n",
       "      <td>0.116224</td>\n",
       "      <td>38</td>\n",
       "      <td>7</td>\n",
       "      <td>0</td>\n",
       "    </tr>\n",
       "    <tr>\n",
       "      <th>5</th>\n",
       "      <td>1.0</td>\n",
       "      <td>-0.015308</td>\n",
       "      <td>0.066074</td>\n",
       "      <td>-0.091963</td>\n",
       "      <td>-0.087114</td>\n",
       "      <td>0.090818</td>\n",
       "      <td>-0.111554</td>\n",
       "      <td>0.043629</td>\n",
       "      <td>0.021707</td>\n",
       "      <td>-0.057208</td>\n",
       "      <td>...</td>\n",
       "      <td>-0.062359</td>\n",
       "      <td>-0.049628</td>\n",
       "      <td>-0.026265</td>\n",
       "      <td>-0.209423</td>\n",
       "      <td>-0.034891</td>\n",
       "      <td>0.074796</td>\n",
       "      <td>0.033769</td>\n",
       "      <td>133</td>\n",
       "      <td>22</td>\n",
       "      <td>0</td>\n",
       "    </tr>\n",
       "    <tr>\n",
       "      <th>6</th>\n",
       "      <td>1.0</td>\n",
       "      <td>-0.164299</td>\n",
       "      <td>0.246382</td>\n",
       "      <td>0.074426</td>\n",
       "      <td>-0.197739</td>\n",
       "      <td>-0.049796</td>\n",
       "      <td>-0.113300</td>\n",
       "      <td>0.006891</td>\n",
       "      <td>0.164581</td>\n",
       "      <td>0.043489</td>\n",
       "      <td>...</td>\n",
       "      <td>-0.085331</td>\n",
       "      <td>-0.116782</td>\n",
       "      <td>-0.220894</td>\n",
       "      <td>-0.148545</td>\n",
       "      <td>0.012302</td>\n",
       "      <td>0.051131</td>\n",
       "      <td>-0.070845</td>\n",
       "      <td>65</td>\n",
       "      <td>9</td>\n",
       "      <td>0</td>\n",
       "    </tr>\n",
       "    <tr>\n",
       "      <th>7</th>\n",
       "      <td>1.0</td>\n",
       "      <td>-0.106244</td>\n",
       "      <td>0.064613</td>\n",
       "      <td>0.053149</td>\n",
       "      <td>0.088013</td>\n",
       "      <td>0.081723</td>\n",
       "      <td>0.039422</td>\n",
       "      <td>-0.027799</td>\n",
       "      <td>-0.073839</td>\n",
       "      <td>-0.033523</td>\n",
       "      <td>...</td>\n",
       "      <td>0.090816</td>\n",
       "      <td>0.050728</td>\n",
       "      <td>-0.074914</td>\n",
       "      <td>-0.144642</td>\n",
       "      <td>-0.092829</td>\n",
       "      <td>-0.162389</td>\n",
       "      <td>0.101731</td>\n",
       "      <td>88</td>\n",
       "      <td>17</td>\n",
       "      <td>0</td>\n",
       "    </tr>\n",
       "    <tr>\n",
       "      <th>...</th>\n",
       "      <td>...</td>\n",
       "      <td>...</td>\n",
       "      <td>...</td>\n",
       "      <td>...</td>\n",
       "      <td>...</td>\n",
       "      <td>...</td>\n",
       "      <td>...</td>\n",
       "      <td>...</td>\n",
       "      <td>...</td>\n",
       "      <td>...</td>\n",
       "      <td>...</td>\n",
       "      <td>...</td>\n",
       "      <td>...</td>\n",
       "      <td>...</td>\n",
       "      <td>...</td>\n",
       "      <td>...</td>\n",
       "      <td>...</td>\n",
       "      <td>...</td>\n",
       "      <td>...</td>\n",
       "      <td>...</td>\n",
       "      <td>...</td>\n",
       "    </tr>\n",
       "    <tr>\n",
       "      <th>10869</th>\n",
       "      <td>1.0</td>\n",
       "      <td>0.125722</td>\n",
       "      <td>-0.172501</td>\n",
       "      <td>-0.210990</td>\n",
       "      <td>0.069487</td>\n",
       "      <td>0.248027</td>\n",
       "      <td>-0.111848</td>\n",
       "      <td>-0.247194</td>\n",
       "      <td>0.088577</td>\n",
       "      <td>0.103570</td>\n",
       "      <td>...</td>\n",
       "      <td>-0.057258</td>\n",
       "      <td>-0.318697</td>\n",
       "      <td>0.098759</td>\n",
       "      <td>0.016955</td>\n",
       "      <td>-0.049510</td>\n",
       "      <td>0.046642</td>\n",
       "      <td>0.084899</td>\n",
       "      <td>83</td>\n",
       "      <td>11</td>\n",
       "      <td>0</td>\n",
       "    </tr>\n",
       "    <tr>\n",
       "      <th>10870</th>\n",
       "      <td>1.0</td>\n",
       "      <td>-0.028086</td>\n",
       "      <td>0.120067</td>\n",
       "      <td>-0.007104</td>\n",
       "      <td>-0.130004</td>\n",
       "      <td>0.085086</td>\n",
       "      <td>0.040323</td>\n",
       "      <td>0.000081</td>\n",
       "      <td>0.057641</td>\n",
       "      <td>0.009555</td>\n",
       "      <td>...</td>\n",
       "      <td>-0.141960</td>\n",
       "      <td>-0.135343</td>\n",
       "      <td>0.050099</td>\n",
       "      <td>-0.030713</td>\n",
       "      <td>-0.038417</td>\n",
       "      <td>-0.127949</td>\n",
       "      <td>0.020050</td>\n",
       "      <td>125</td>\n",
       "      <td>20</td>\n",
       "      <td>0</td>\n",
       "    </tr>\n",
       "    <tr>\n",
       "      <th>10871</th>\n",
       "      <td>1.0</td>\n",
       "      <td>0.094174</td>\n",
       "      <td>0.070309</td>\n",
       "      <td>0.006695</td>\n",
       "      <td>-0.234299</td>\n",
       "      <td>0.127002</td>\n",
       "      <td>0.118076</td>\n",
       "      <td>0.000077</td>\n",
       "      <td>0.073560</td>\n",
       "      <td>-0.028439</td>\n",
       "      <td>...</td>\n",
       "      <td>-0.021147</td>\n",
       "      <td>0.104435</td>\n",
       "      <td>0.060643</td>\n",
       "      <td>-0.083095</td>\n",
       "      <td>0.051929</td>\n",
       "      <td>-0.007193</td>\n",
       "      <td>0.036317</td>\n",
       "      <td>65</td>\n",
       "      <td>8</td>\n",
       "      <td>0</td>\n",
       "    </tr>\n",
       "    <tr>\n",
       "      <th>10872</th>\n",
       "      <td>1.0</td>\n",
       "      <td>-0.019306</td>\n",
       "      <td>0.186377</td>\n",
       "      <td>-0.213504</td>\n",
       "      <td>0.052711</td>\n",
       "      <td>0.207420</td>\n",
       "      <td>-0.062498</td>\n",
       "      <td>0.045893</td>\n",
       "      <td>-0.133572</td>\n",
       "      <td>-0.190740</td>\n",
       "      <td>...</td>\n",
       "      <td>-0.182910</td>\n",
       "      <td>-0.058411</td>\n",
       "      <td>0.018260</td>\n",
       "      <td>0.166054</td>\n",
       "      <td>-0.072820</td>\n",
       "      <td>0.039126</td>\n",
       "      <td>0.074395</td>\n",
       "      <td>137</td>\n",
       "      <td>19</td>\n",
       "      <td>0</td>\n",
       "    </tr>\n",
       "    <tr>\n",
       "      <th>10873</th>\n",
       "      <td>1.0</td>\n",
       "      <td>-0.080536</td>\n",
       "      <td>0.214192</td>\n",
       "      <td>-0.022204</td>\n",
       "      <td>-0.074436</td>\n",
       "      <td>0.044229</td>\n",
       "      <td>-0.009171</td>\n",
       "      <td>-0.010860</td>\n",
       "      <td>0.117330</td>\n",
       "      <td>-0.010375</td>\n",
       "      <td>...</td>\n",
       "      <td>0.083043</td>\n",
       "      <td>-0.125279</td>\n",
       "      <td>-0.027727</td>\n",
       "      <td>-0.106343</td>\n",
       "      <td>-0.245135</td>\n",
       "      <td>-0.038212</td>\n",
       "      <td>0.168315</td>\n",
       "      <td>94</td>\n",
       "      <td>13</td>\n",
       "      <td>0</td>\n",
       "    </tr>\n",
       "  </tbody>\n",
       "</table>\n",
       "<p>7613 rows × 304 columns</p>\n",
       "</div>"
      ],
      "text/plain": [
       "       target         0         1         2         3         4         5  \\\n",
       "1         1.0 -0.278979  0.103926 -0.099896 -0.033250  0.006406 -0.127988   \n",
       "4         1.0 -0.020768  0.053068 -0.151928 -0.275765  0.278003  0.105984   \n",
       "5         1.0 -0.015308  0.066074 -0.091963 -0.087114  0.090818 -0.111554   \n",
       "6         1.0 -0.164299  0.246382  0.074426 -0.197739 -0.049796 -0.113300   \n",
       "7         1.0 -0.106244  0.064613  0.053149  0.088013  0.081723  0.039422   \n",
       "...       ...       ...       ...       ...       ...       ...       ...   \n",
       "10869     1.0  0.125722 -0.172501 -0.210990  0.069487  0.248027 -0.111848   \n",
       "10870     1.0 -0.028086  0.120067 -0.007104 -0.130004  0.085086  0.040323   \n",
       "10871     1.0  0.094174  0.070309  0.006695 -0.234299  0.127002  0.118076   \n",
       "10872     1.0 -0.019306  0.186377 -0.213504  0.052711  0.207420 -0.062498   \n",
       "10873     1.0 -0.080536  0.214192 -0.022204 -0.074436  0.044229 -0.009171   \n",
       "\n",
       "              6         7         8  ...       293       294       295  \\\n",
       "1      0.015576  0.162036  0.019861  ... -0.059484  0.200914 -0.077234   \n",
       "4      0.237008 -0.066866 -0.185964  ... -0.038636  0.082291  0.110084   \n",
       "5      0.043629  0.021707 -0.057208  ... -0.062359 -0.049628 -0.026265   \n",
       "6      0.006891  0.164581  0.043489  ... -0.085331 -0.116782 -0.220894   \n",
       "7     -0.027799 -0.073839 -0.033523  ...  0.090816  0.050728 -0.074914   \n",
       "...         ...       ...       ...  ...       ...       ...       ...   \n",
       "10869 -0.247194  0.088577  0.103570  ... -0.057258 -0.318697  0.098759   \n",
       "10870  0.000081  0.057641  0.009555  ... -0.141960 -0.135343  0.050099   \n",
       "10871  0.000077  0.073560 -0.028439  ... -0.021147  0.104435  0.060643   \n",
       "10872  0.045893 -0.133572 -0.190740  ... -0.182910 -0.058411  0.018260   \n",
       "10873 -0.010860  0.117330 -0.010375  ...  0.083043 -0.125279 -0.027727   \n",
       "\n",
       "            296       297       298       299  chars  words  contains_url  \n",
       "1     -0.056179  0.045646 -0.063259 -0.056399     69     13             0  \n",
       "4      0.001230 -0.054747 -0.254972  0.116224     38      7             0  \n",
       "5     -0.209423 -0.034891  0.074796  0.033769    133     22             0  \n",
       "6     -0.148545  0.012302  0.051131 -0.070845     65      9             0  \n",
       "7     -0.144642 -0.092829 -0.162389  0.101731     88     17             0  \n",
       "...         ...       ...       ...       ...    ...    ...           ...  \n",
       "10869  0.016955 -0.049510  0.046642  0.084899     83     11             0  \n",
       "10870 -0.030713 -0.038417 -0.127949  0.020050    125     20             0  \n",
       "10871 -0.083095  0.051929 -0.007193  0.036317     65      8             0  \n",
       "10872  0.166054 -0.072820  0.039126  0.074395    137     19             0  \n",
       "10873 -0.106343 -0.245135 -0.038212  0.168315     94     13             0  \n",
       "\n",
       "[7613 rows x 304 columns]"
      ]
     },
     "execution_count": 17,
     "metadata": {},
     "output_type": "execute_result"
    }
   ],
   "source": [
    "df_proc = preprocess_df(df)\n",
    "df_proc"
   ]
  },
  {
   "cell_type": "code",
   "execution_count": 18,
   "metadata": {
    "execution": {
     "iopub.execute_input": "2021-09-03T08:32:49.368304Z",
     "iopub.status.busy": "2021-09-03T08:32:49.367942Z",
     "iopub.status.idle": "2021-09-03T08:32:49.381346Z",
     "shell.execute_reply": "2021-09-03T08:32:49.380320Z",
     "shell.execute_reply.started": "2021-09-03T08:32:49.368241Z"
    }
   },
   "outputs": [
    {
     "data": {
      "text/plain": [
       "0"
      ]
     },
     "execution_count": 18,
     "metadata": {},
     "output_type": "execute_result"
    }
   ],
   "source": [
    "# Check one last time for missing data\n",
    "df_proc.isnull().any(1).sum()"
   ]
  },
  {
   "cell_type": "markdown",
   "metadata": {},
   "source": [
    "**Data has been vectorized and we don't have any missing values - let's split our data and start building out a model!**"
   ]
  },
  {
   "cell_type": "code",
   "execution_count": 19,
   "metadata": {
    "execution": {
     "iopub.execute_input": "2021-09-03T08:32:49.382865Z",
     "iopub.status.busy": "2021-09-03T08:32:49.382560Z",
     "iopub.status.idle": "2021-09-03T08:32:49.417700Z",
     "shell.execute_reply": "2021-09-03T08:32:49.416741Z",
     "shell.execute_reply.started": "2021-09-03T08:32:49.382839Z"
    }
   },
   "outputs": [],
   "source": [
    "X = df_proc.drop(\"target\", axis=1)\n",
    "y = df_proc[\"target\"]\n",
    "X_train, X_test, y_train, y_test = train_test_split(X, y, test_size=0.333, random_state=42)"
   ]
  },
  {
   "cell_type": "markdown",
   "metadata": {},
   "source": [
    "**Let's try out a number of baseline models to see how they all perform, performing cross validation of the f1 score to get a more accurate idea of perfomance**"
   ]
  },
  {
   "cell_type": "code",
   "execution_count": 20,
   "metadata": {
    "execution": {
     "iopub.execute_input": "2021-09-03T08:32:49.419072Z",
     "iopub.status.busy": "2021-09-03T08:32:49.418754Z",
     "iopub.status.idle": "2021-09-03T08:32:49.552650Z",
     "shell.execute_reply": "2021-09-03T08:32:49.551903Z",
     "shell.execute_reply.started": "2021-09-03T08:32:49.419036Z"
    }
   },
   "outputs": [],
   "source": [
    "from sklearn.ensemble import GradientBoostingClassifier, RandomForestClassifier\n",
    "from sklearn.naive_bayes import MultinomialNB, BernoulliNB, GaussianNB\n",
    "from sklearn.svm import LinearSVC, SVC\n",
    "from sklearn.neighbors import KNeighborsClassifier\n",
    "from sklearn.metrics import f1_score\n",
    "from sklearn.model_selection import cross_validate\n",
    "from tqdm import tqdm"
   ]
  },
  {
   "cell_type": "code",
   "execution_count": 21,
   "metadata": {
    "execution": {
     "iopub.execute_input": "2021-09-03T08:32:49.554228Z",
     "iopub.status.busy": "2021-09-03T08:32:49.553738Z",
     "iopub.status.idle": "2021-09-03T08:42:34.256036Z",
     "shell.execute_reply": "2021-09-03T08:42:34.254900Z",
     "shell.execute_reply.started": "2021-09-03T08:32:49.554182Z"
    },
    "scrolled": true
   },
   "outputs": [
    {
     "name": "stderr",
     "output_type": "stream",
     "text": [
      "Evaluating model: GradientBoostingClassifier(n_estimators=300, random_state=42):  "
     ]
    },
    {
     "name": "stdout",
     "output_type": "stream",
     "text": [
      "(GradientBoostingClassifier(n_estimators=300, random_state=42), 0.7446970416003941, 0.7924608478148891)\n"
     ]
    },
    {
     "name": "stderr",
     "output_type": "stream",
     "text": [
      "\r",
      "Evaluating model: RandomForestClassifier(random_state=42):  33%|▎| 2/6 [39:19<1:04"
     ]
    },
    {
     "name": "stdout",
     "output_type": "stream",
     "text": [
      "(RandomForestClassifier(random_state=42), 0.7096868705306406, 0.7734166348145777)\n"
     ]
    },
    {
     "name": "stderr",
     "output_type": "stream",
     "text": [
      "\r",
      "Evaluating model: MultinomialNB():  50%|███   | 3/6 [39:19<26:26, 528.76s/ models]"
     ]
    },
    {
     "name": "stdout",
     "output_type": "stream",
     "text": [
      "(MultinomialNB(), nan, nan)\n"
     ]
    },
    {
     "name": "stderr",
     "output_type": "stream",
     "text": [
      "\r",
      "Evaluating model: KNeighborsClassifier(n_neighbors=2):  67%|▋| 4/6 [39:20<10:41, 3"
     ]
    },
    {
     "name": "stdout",
     "output_type": "stream",
     "text": [
      "(KNeighborsClassifier(n_neighbors=2), 0.436210390598547, 0.6463959109683064)\n"
     ]
    },
    {
     "name": "stderr",
     "output_type": "stream",
     "text": [
      "\r",
      "Evaluating model: SVC():  83%|█████████████▎  | 5/6 [39:38<03:31, 211.23s/ models]"
     ]
    },
    {
     "name": "stdout",
     "output_type": "stream",
     "text": [
      "(SVC(), 0.5009651280020643, 0.6307672197569808)\n"
     ]
    },
    {
     "name": "stderr",
     "output_type": "stream",
     "text": [
      "Evaluating model: LinearSVC(max_iter=3000): 100%|█| 6/6 [39:56<00:00, 399.43s/ mod"
     ]
    },
    {
     "name": "stdout",
     "output_type": "stream",
     "text": [
      "(LinearSVC(max_iter=3000), 0.579414533261682, 0.7083872086612373)\n",
      "The best baseline model is GradientBoostingClassifier(n_estimators=300, random_state=42) with an f1 score of 74.5 and an accuracy of 79.2\n"
     ]
    },
    {
     "name": "stderr",
     "output_type": "stream",
     "text": [
      "\n"
     ]
    }
   ],
   "source": [
    "clfs = [\n",
    "    GradientBoostingClassifier(random_state=42, n_estimators=300),\n",
    "    RandomForestClassifier(random_state=42),\n",
    "    MultinomialNB(),\n",
    "    KNeighborsClassifier(n_neighbors=2),\n",
    "    SVC(),\n",
    "    LinearSVC(max_iter=3000)\n",
    "]\n",
    "results = []\n",
    "prog_bar = tqdm(clfs, desc=\"Evaluating models\", unit=\" models\")\n",
    "for clf in prog_bar:\n",
    "    prog_bar.desc = f\"Evaluating model: {clf}\"\n",
    "    scores = cross_validate(clf, X, y, scoring=(\"f1\", \"accuracy\"), n_jobs=-1)\n",
    "    result = (clf, np.mean(scores[\"test_f1\"]), np.mean(scores[\"test_accuracy\"]))\n",
    "    print(result)\n",
    "    results.append(result)\n",
    "best_clf, best_f1, best_acc = max(results, key=lambda x: x[1])\n",
    "print(f\"The best baseline model is {best_clf} with an f1 score of {100*best_f1:.1f} and an accuracy of {100*best_acc:.1f}\")"
   ]
  },
  {
   "cell_type": "markdown",
   "metadata": {},
   "source": [
    "**We should now have identified our best baseline model using Sklearn using a cross validated score**\n",
    "\n",
    "**Lets now try to tweak the best parametric models (Linear SVC and XGBoost) to see if we can get a better fit**"
   ]
  },
  {
   "cell_type": "code",
   "execution_count": 22,
   "metadata": {
    "execution": {
     "iopub.execute_input": "2021-09-03T08:42:34.257988Z",
     "iopub.status.busy": "2021-09-03T08:42:34.257677Z",
     "iopub.status.idle": "2021-09-03T08:42:34.262617Z",
     "shell.execute_reply": "2021-09-03T08:42:34.261411Z",
     "shell.execute_reply.started": "2021-09-03T08:42:34.257956Z"
    }
   },
   "outputs": [],
   "source": [
    "from sklearn.model_selection import GridSearchCV"
   ]
  },
  {
   "cell_type": "code",
   "execution_count": 23,
   "metadata": {
    "execution": {
     "iopub.execute_input": "2021-09-03T08:42:34.265253Z",
     "iopub.status.busy": "2021-09-03T08:42:34.264484Z",
     "iopub.status.idle": "2021-09-03T08:45:00.205266Z",
     "shell.execute_reply": "2021-09-03T08:45:00.204090Z",
     "shell.execute_reply.started": "2021-09-03T08:42:34.265207Z"
    }
   },
   "outputs": [
    {
     "name": "stderr",
     "output_type": "stream",
     "text": [
      "/Users/dklein/opt/anaconda3/envs/disasters/lib/python3.7/site-packages/sklearn/svm/_base.py:977: ConvergenceWarning: Liblinear failed to converge, increase the number of iterations.\n",
      "  \"the number of iterations.\", ConvergenceWarning)\n"
     ]
    },
    {
     "data": {
      "text/plain": [
       "GridSearchCV(estimator=LinearSVC(max_iter=3000), n_jobs=-1,\n",
       "             param_grid={'C': [0.001, 0.01, 0.1, 1.0, 10.0, 100.0],\n",
       "                         'penalty': ['l1', 'l2']},\n",
       "             scoring='f1')"
      ]
     },
     "execution_count": 23,
     "metadata": {},
     "output_type": "execute_result"
    }
   ],
   "source": [
    "params = {\n",
    "    \"C\": [0.001*10**x for x in range(6)],\n",
    "    \"penalty\": [\"l1\", \"l2\"]\n",
    "}\n",
    "gcv_svm = GridSearchCV(LinearSVC(max_iter=3000), params, n_jobs=-1, scoring=\"f1\")\n",
    "gcv_svm.fit(X_train, y_train)"
   ]
  },
  {
   "cell_type": "code",
   "execution_count": 24,
   "metadata": {
    "execution": {
     "iopub.execute_input": "2021-09-03T08:45:00.206910Z",
     "iopub.status.busy": "2021-09-03T08:45:00.206613Z",
     "iopub.status.idle": "2021-09-03T08:45:00.213423Z",
     "shell.execute_reply": "2021-09-03T08:45:00.212353Z",
     "shell.execute_reply.started": "2021-09-03T08:45:00.206880Z"
    }
   },
   "outputs": [
    {
     "name": "stdout",
     "output_type": "stream",
     "text": [
      "Best estimator: LinearSVC(C=0.01, max_iter=3000)\n",
      "Best F1 score: 0.7492487594896795\n",
      "Best params: {'C': 0.01, 'penalty': 'l2'}\n"
     ]
    }
   ],
   "source": [
    "print(f\"Best estimator: {gcv_svm.best_estimator_}\")\n",
    "print(f\"Best F1 score: {gcv_svm.best_score_}\")\n",
    "print(f\"Best params: {gcv_svm.best_params_}\")"
   ]
  },
  {
   "cell_type": "code",
   "execution_count": 25,
   "metadata": {
    "execution": {
     "iopub.execute_input": "2021-09-03T08:45:00.217591Z",
     "iopub.status.busy": "2021-09-03T08:45:00.217268Z",
     "iopub.status.idle": "2021-09-03T08:45:00.250016Z",
     "shell.execute_reply": "2021-09-03T08:45:00.248705Z",
     "shell.execute_reply.started": "2021-09-03T08:45:00.217560Z"
    }
   },
   "outputs": [
    {
     "name": "stdout",
     "output_type": "stream",
     "text": [
      "              precision    recall  f1-score   support\n",
      "\n",
      "         0.0       0.80      0.89      0.84      1462\n",
      "         1.0       0.82      0.70      0.76      1074\n",
      "\n",
      "    accuracy                           0.81      2536\n",
      "   macro avg       0.81      0.80      0.80      2536\n",
      "weighted avg       0.81      0.81      0.81      2536\n",
      "\n"
     ]
    }
   ],
   "source": [
    "y_pred = gcv_svm.predict(X_test)\n",
    "print(classification_report(y_test, y_pred))"
   ]
  },
  {
   "cell_type": "markdown",
   "metadata": {},
   "source": [
    "**Let's see if XGBoost, rather than Gradient Boost, will give better performance**"
   ]
  },
  {
   "cell_type": "code",
   "execution_count": 26,
   "metadata": {
    "execution": {
     "iopub.status.busy": "2021-09-03T08:45:00.554427Z",
     "iopub.status.idle": "2021-09-03T08:45:00.555086Z"
    }
   },
   "outputs": [
    {
     "name": "stderr",
     "output_type": "stream",
     "text": [
      "[Parallel(n_jobs=1)]: Using backend SequentialBackend with 1 concurrent workers.\n",
      "/Users/dklein/opt/anaconda3/envs/disasters/lib/python3.7/site-packages/xgboost/sklearn.py:888: UserWarning: The use of label encoder in XGBClassifier is deprecated and will be removed in a future release. To remove this warning, do the following: 1) Pass option use_label_encoder=False when constructing XGBClassifier object; and 2) Encode your labels (y) as integers starting with 0, i.e. 0, 1, 2, ..., [num_class - 1].\n",
      "  warnings.warn(label_encoder_deprecation_msg, UserWarning)\n"
     ]
    },
    {
     "name": "stdout",
     "output_type": "stream",
     "text": [
      "Fitting 5 folds for each of 3 candidates, totalling 15 fits\n",
      "[15:30:03] WARNING: /opt/concourse/worker/volumes/live/7a2b9f41-3287-451b-6691-43e9a6c0910f/volume/xgboost-split_1619728204606/work/src/learner.cc:1061: Starting in XGBoost 1.3.0, the default evaluation metric used with the objective 'binary:logistic' was changed from 'error' to 'logloss'. Explicitly set eval_metric if you'd like to restore the old behavior.\n",
      "[15:30:24] WARNING: /opt/concourse/worker/volumes/live/7a2b9f41-3287-451b-6691-43e9a6c0910f/volume/xgboost-split_1619728204606/work/src/learner.cc:1061: Starting in XGBoost 1.3.0, the default evaluation metric used with the objective 'binary:logistic' was changed from 'error' to 'logloss'. Explicitly set eval_metric if you'd like to restore the old behavior.\n",
      "[15:30:46] WARNING: /opt/concourse/worker/volumes/live/7a2b9f41-3287-451b-6691-43e9a6c0910f/volume/xgboost-split_1619728204606/work/src/learner.cc:1061: Starting in XGBoost 1.3.0, the default evaluation metric used with the objective 'binary:logistic' was changed from 'error' to 'logloss'. Explicitly set eval_metric if you'd like to restore the old behavior.\n",
      "[15:31:08] WARNING: /opt/concourse/worker/volumes/live/7a2b9f41-3287-451b-6691-43e9a6c0910f/volume/xgboost-split_1619728204606/work/src/learner.cc:1061: Starting in XGBoost 1.3.0, the default evaluation metric used with the objective 'binary:logistic' was changed from 'error' to 'logloss'. Explicitly set eval_metric if you'd like to restore the old behavior.\n",
      "[15:31:30] WARNING: /opt/concourse/worker/volumes/live/7a2b9f41-3287-451b-6691-43e9a6c0910f/volume/xgboost-split_1619728204606/work/src/learner.cc:1061: Starting in XGBoost 1.3.0, the default evaluation metric used with the objective 'binary:logistic' was changed from 'error' to 'logloss'. Explicitly set eval_metric if you'd like to restore the old behavior.\n",
      "[15:31:53] WARNING: /opt/concourse/worker/volumes/live/7a2b9f41-3287-451b-6691-43e9a6c0910f/volume/xgboost-split_1619728204606/work/src/learner.cc:1061: Starting in XGBoost 1.3.0, the default evaluation metric used with the objective 'binary:logistic' was changed from 'error' to 'logloss'. Explicitly set eval_metric if you'd like to restore the old behavior.\n",
      "[15:32:20] WARNING: /opt/concourse/worker/volumes/live/7a2b9f41-3287-451b-6691-43e9a6c0910f/volume/xgboost-split_1619728204606/work/src/learner.cc:1061: Starting in XGBoost 1.3.0, the default evaluation metric used with the objective 'binary:logistic' was changed from 'error' to 'logloss'. Explicitly set eval_metric if you'd like to restore the old behavior.\n"
     ]
    },
    {
     "name": "stderr",
     "output_type": "stream",
     "text": [
      "/Users/dklein/opt/anaconda3/envs/disasters/lib/python3.7/site-packages/sklearn/model_selection/_validation.py:552: FitFailedWarning: Estimator fit failed. The score on this train-test partition for these parameters will be set to nan. Details: \n",
      "Traceback (most recent call last):\n",
      "  File \"/Users/dklein/opt/anaconda3/envs/disasters/lib/python3.7/site-packages/sklearn/model_selection/_validation.py\", line 531, in _fit_and_score\n",
      "    estimator.fit(X_train, y_train, **fit_params)\n",
      "  File \"/Users/dklein/opt/anaconda3/envs/disasters/lib/python3.7/site-packages/sklearn/naive_bayes.py\", line 641, in fit\n",
      "    self._count(X, Y)\n",
      "  File \"/Users/dklein/opt/anaconda3/envs/disasters/lib/python3.7/site-packages/sklearn/naive_bayes.py\", line 763, in _count\n",
      "    check_non_negative(X, \"MultinomialNB (input X)\")\n",
      "  File \"/Users/dklein/opt/anaconda3/envs/disasters/lib/python3.7/site-packages/sklearn/utils/validation.py\", line 1046, in check_non_negative\n",
      "    raise ValueError(\"Negative values in data passed to %s\" % whom)\n",
      "ValueError: Negative values in data passed to MultinomialNB (input X)\n",
      "\n",
      "  FitFailedWarning)\n",
      "/Users/dklein/opt/anaconda3/envs/disasters/lib/python3.7/site-packages/sklearn/svm/_base.py:977: ConvergenceWarning: Liblinear failed to converge, increase the number of iterations.\n",
      "  \"the number of iterations.\", ConvergenceWarning)\n",
      "/Users/dklein/opt/anaconda3/envs/disasters/lib/python3.7/site-packages/sklearn/svm/_base.py:977: ConvergenceWarning: Liblinear failed to converge, increase the number of iterations.\n",
      "  \"the number of iterations.\", ConvergenceWarning)\n",
      "/Users/dklein/opt/anaconda3/envs/disasters/lib/python3.7/site-packages/sklearn/svm/_base.py:977: ConvergenceWarning: Liblinear failed to converge, increase the number of iterations.\n",
      "  \"the number of iterations.\", ConvergenceWarning)\n",
      "/Users/dklein/opt/anaconda3/envs/disasters/lib/python3.7/site-packages/sklearn/model_selection/_validation.py:552: FitFailedWarning: Estimator fit failed. The score on this train-test partition for these parameters will be set to nan. Details: \n",
      "Traceback (most recent call last):\n",
      "  File \"/Users/dklein/opt/anaconda3/envs/disasters/lib/python3.7/site-packages/sklearn/model_selection/_validation.py\", line 531, in _fit_and_score\n",
      "    estimator.fit(X_train, y_train, **fit_params)\n",
      "  File \"/Users/dklein/opt/anaconda3/envs/disasters/lib/python3.7/site-packages/sklearn/naive_bayes.py\", line 641, in fit\n",
      "    self._count(X, Y)\n",
      "  File \"/Users/dklein/opt/anaconda3/envs/disasters/lib/python3.7/site-packages/sklearn/naive_bayes.py\", line 763, in _count\n",
      "    check_non_negative(X, \"MultinomialNB (input X)\")\n",
      "  File \"/Users/dklein/opt/anaconda3/envs/disasters/lib/python3.7/site-packages/sklearn/utils/validation.py\", line 1046, in check_non_negative\n",
      "    raise ValueError(\"Negative values in data passed to %s\" % whom)\n",
      "ValueError: Negative values in data passed to MultinomialNB (input X)\n",
      "\n",
      "  FitFailedWarning)\n",
      "/Users/dklein/opt/anaconda3/envs/disasters/lib/python3.7/site-packages/sklearn/svm/_base.py:977: ConvergenceWarning: Liblinear failed to converge, increase the number of iterations.\n",
      "  \"the number of iterations.\", ConvergenceWarning)\n",
      "/Users/dklein/opt/anaconda3/envs/disasters/lib/python3.7/site-packages/sklearn/model_selection/_validation.py:552: FitFailedWarning: Estimator fit failed. The score on this train-test partition for these parameters will be set to nan. Details: \n",
      "Traceback (most recent call last):\n",
      "  File \"/Users/dklein/opt/anaconda3/envs/disasters/lib/python3.7/site-packages/sklearn/model_selection/_validation.py\", line 531, in _fit_and_score\n",
      "    estimator.fit(X_train, y_train, **fit_params)\n",
      "  File \"/Users/dklein/opt/anaconda3/envs/disasters/lib/python3.7/site-packages/sklearn/svm/_classes.py\", line 237, in fit\n",
      "    self.loss, sample_weight=sample_weight)\n",
      "  File \"/Users/dklein/opt/anaconda3/envs/disasters/lib/python3.7/site-packages/sklearn/svm/_base.py\", line 965, in _fit_liblinear\n",
      "    solver_type = _get_liblinear_solver_type(multi_class, penalty, loss, dual)\n",
      "  File \"/Users/dklein/opt/anaconda3/envs/disasters/lib/python3.7/site-packages/sklearn/svm/_base.py\", line 823, in _get_liblinear_solver_type\n",
      "    % (error_string, penalty, loss, dual))\n",
      "ValueError: Unsupported set of arguments: The combination of penalty='l1' and loss='squared_hinge' are not supported when dual=True, Parameters: penalty='l1', loss='squared_hinge', dual=True\n",
      "\n",
      "  FitFailedWarning)\n",
      "/Users/dklein/opt/anaconda3/envs/disasters/lib/python3.7/site-packages/sklearn/model_selection/_validation.py:552: FitFailedWarning: Estimator fit failed. The score on this train-test partition for these parameters will be set to nan. Details: \n",
      "Traceback (most recent call last):\n",
      "  File \"/Users/dklein/opt/anaconda3/envs/disasters/lib/python3.7/site-packages/sklearn/model_selection/_validation.py\", line 531, in _fit_and_score\n",
      "    estimator.fit(X_train, y_train, **fit_params)\n",
      "  File \"/Users/dklein/opt/anaconda3/envs/disasters/lib/python3.7/site-packages/sklearn/svm/_classes.py\", line 237, in fit\n",
      "    self.loss, sample_weight=sample_weight)\n",
      "  File \"/Users/dklein/opt/anaconda3/envs/disasters/lib/python3.7/site-packages/sklearn/svm/_base.py\", line 965, in _fit_liblinear\n",
      "    solver_type = _get_liblinear_solver_type(multi_class, penalty, loss, dual)\n",
      "  File \"/Users/dklein/opt/anaconda3/envs/disasters/lib/python3.7/site-packages/sklearn/svm/_base.py\", line 823, in _get_liblinear_solver_type\n",
      "    % (error_string, penalty, loss, dual))\n",
      "ValueError: Unsupported set of arguments: The combination of penalty='l1' and loss='squared_hinge' are not supported when dual=True, Parameters: penalty='l1', loss='squared_hinge', dual=True\n",
      "\n",
      "  FitFailedWarning)\n",
      "/Users/dklein/opt/anaconda3/envs/disasters/lib/python3.7/site-packages/sklearn/model_selection/_validation.py:552: FitFailedWarning: Estimator fit failed. The score on this train-test partition for these parameters will be set to nan. Details: \n",
      "Traceback (most recent call last):\n",
      "  File \"/Users/dklein/opt/anaconda3/envs/disasters/lib/python3.7/site-packages/sklearn/model_selection/_validation.py\", line 531, in _fit_and_score\n",
      "    estimator.fit(X_train, y_train, **fit_params)\n",
      "  File \"/Users/dklein/opt/anaconda3/envs/disasters/lib/python3.7/site-packages/sklearn/svm/_classes.py\", line 237, in fit\n",
      "    self.loss, sample_weight=sample_weight)\n",
      "  File \"/Users/dklein/opt/anaconda3/envs/disasters/lib/python3.7/site-packages/sklearn/svm/_base.py\", line 965, in _fit_liblinear\n",
      "    solver_type = _get_liblinear_solver_type(multi_class, penalty, loss, dual)\n",
      "  File \"/Users/dklein/opt/anaconda3/envs/disasters/lib/python3.7/site-packages/sklearn/svm/_base.py\", line 823, in _get_liblinear_solver_type\n",
      "    % (error_string, penalty, loss, dual))\n",
      "ValueError: Unsupported set of arguments: The combination of penalty='l1' and loss='squared_hinge' are not supported when dual=True, Parameters: penalty='l1', loss='squared_hinge', dual=True\n",
      "\n",
      "  FitFailedWarning)\n",
      "/Users/dklein/opt/anaconda3/envs/disasters/lib/python3.7/site-packages/sklearn/model_selection/_validation.py:552: FitFailedWarning: Estimator fit failed. The score on this train-test partition for these parameters will be set to nan. Details: \n",
      "Traceback (most recent call last):\n",
      "  File \"/Users/dklein/opt/anaconda3/envs/disasters/lib/python3.7/site-packages/sklearn/model_selection/_validation.py\", line 531, in _fit_and_score\n",
      "    estimator.fit(X_train, y_train, **fit_params)\n",
      "  File \"/Users/dklein/opt/anaconda3/envs/disasters/lib/python3.7/site-packages/sklearn/svm/_classes.py\", line 237, in fit\n",
      "    self.loss, sample_weight=sample_weight)\n",
      "  File \"/Users/dklein/opt/anaconda3/envs/disasters/lib/python3.7/site-packages/sklearn/svm/_base.py\", line 965, in _fit_liblinear\n",
      "    solver_type = _get_liblinear_solver_type(multi_class, penalty, loss, dual)\n",
      "  File \"/Users/dklein/opt/anaconda3/envs/disasters/lib/python3.7/site-packages/sklearn/svm/_base.py\", line 823, in _get_liblinear_solver_type\n",
      "    % (error_string, penalty, loss, dual))\n",
      "ValueError: Unsupported set of arguments: The combination of penalty='l1' and loss='squared_hinge' are not supported when dual=True, Parameters: penalty='l1', loss='squared_hinge', dual=True\n",
      "\n",
      "  FitFailedWarning)\n",
      "/Users/dklein/opt/anaconda3/envs/disasters/lib/python3.7/site-packages/sklearn/model_selection/_validation.py:552: FitFailedWarning: Estimator fit failed. The score on this train-test partition for these parameters will be set to nan. Details: \n",
      "Traceback (most recent call last):\n",
      "  File \"/Users/dklein/opt/anaconda3/envs/disasters/lib/python3.7/site-packages/sklearn/model_selection/_validation.py\", line 531, in _fit_and_score\n",
      "    estimator.fit(X_train, y_train, **fit_params)\n",
      "  File \"/Users/dklein/opt/anaconda3/envs/disasters/lib/python3.7/site-packages/sklearn/svm/_classes.py\", line 237, in fit\n",
      "    self.loss, sample_weight=sample_weight)\n",
      "  File \"/Users/dklein/opt/anaconda3/envs/disasters/lib/python3.7/site-packages/sklearn/svm/_base.py\", line 965, in _fit_liblinear\n",
      "    solver_type = _get_liblinear_solver_type(multi_class, penalty, loss, dual)\n",
      "  File \"/Users/dklein/opt/anaconda3/envs/disasters/lib/python3.7/site-packages/sklearn/svm/_base.py\", line 823, in _get_liblinear_solver_type\n",
      "    % (error_string, penalty, loss, dual))\n",
      "ValueError: Unsupported set of arguments: The combination of penalty='l1' and loss='squared_hinge' are not supported when dual=True, Parameters: penalty='l1', loss='squared_hinge', dual=True\n",
      "\n",
      "  FitFailedWarning)\n",
      "/Users/dklein/opt/anaconda3/envs/disasters/lib/python3.7/site-packages/sklearn/model_selection/_validation.py:552: FitFailedWarning: Estimator fit failed. The score on this train-test partition for these parameters will be set to nan. Details: \n",
      "Traceback (most recent call last):\n",
      "  File \"/Users/dklein/opt/anaconda3/envs/disasters/lib/python3.7/site-packages/sklearn/model_selection/_validation.py\", line 531, in _fit_and_score\n",
      "    estimator.fit(X_train, y_train, **fit_params)\n",
      "  File \"/Users/dklein/opt/anaconda3/envs/disasters/lib/python3.7/site-packages/sklearn/svm/_classes.py\", line 237, in fit\n",
      "    self.loss, sample_weight=sample_weight)\n",
      "  File \"/Users/dklein/opt/anaconda3/envs/disasters/lib/python3.7/site-packages/sklearn/svm/_base.py\", line 965, in _fit_liblinear\n",
      "    solver_type = _get_liblinear_solver_type(multi_class, penalty, loss, dual)\n",
      "  File \"/Users/dklein/opt/anaconda3/envs/disasters/lib/python3.7/site-packages/sklearn/svm/_base.py\", line 823, in _get_liblinear_solver_type\n",
      "    % (error_string, penalty, loss, dual))\n",
      "ValueError: Unsupported set of arguments: The combination of penalty='l1' and loss='squared_hinge' are not supported when dual=True, Parameters: penalty='l1', loss='squared_hinge', dual=True\n",
      "\n",
      "  FitFailedWarning)\n",
      "/Users/dklein/opt/anaconda3/envs/disasters/lib/python3.7/site-packages/sklearn/model_selection/_validation.py:552: FitFailedWarning: Estimator fit failed. The score on this train-test partition for these parameters will be set to nan. Details: \n",
      "Traceback (most recent call last):\n",
      "  File \"/Users/dklein/opt/anaconda3/envs/disasters/lib/python3.7/site-packages/sklearn/model_selection/_validation.py\", line 531, in _fit_and_score\n",
      "    estimator.fit(X_train, y_train, **fit_params)\n",
      "  File \"/Users/dklein/opt/anaconda3/envs/disasters/lib/python3.7/site-packages/sklearn/svm/_classes.py\", line 237, in fit\n",
      "    self.loss, sample_weight=sample_weight)\n",
      "  File \"/Users/dklein/opt/anaconda3/envs/disasters/lib/python3.7/site-packages/sklearn/svm/_base.py\", line 965, in _fit_liblinear\n",
      "    solver_type = _get_liblinear_solver_type(multi_class, penalty, loss, dual)\n",
      "  File \"/Users/dklein/opt/anaconda3/envs/disasters/lib/python3.7/site-packages/sklearn/svm/_base.py\", line 823, in _get_liblinear_solver_type\n",
      "    % (error_string, penalty, loss, dual))\n",
      "ValueError: Unsupported set of arguments: The combination of penalty='l1' and loss='squared_hinge' are not supported when dual=True, Parameters: penalty='l1', loss='squared_hinge', dual=True\n",
      "\n",
      "  FitFailedWarning)\n",
      "/Users/dklein/opt/anaconda3/envs/disasters/lib/python3.7/site-packages/sklearn/model_selection/_validation.py:552: FitFailedWarning: Estimator fit failed. The score on this train-test partition for these parameters will be set to nan. Details: \n",
      "Traceback (most recent call last):\n",
      "  File \"/Users/dklein/opt/anaconda3/envs/disasters/lib/python3.7/site-packages/sklearn/model_selection/_validation.py\", line 531, in _fit_and_score\n",
      "    estimator.fit(X_train, y_train, **fit_params)\n",
      "  File \"/Users/dklein/opt/anaconda3/envs/disasters/lib/python3.7/site-packages/sklearn/svm/_classes.py\", line 237, in fit\n",
      "    self.loss, sample_weight=sample_weight)\n",
      "  File \"/Users/dklein/opt/anaconda3/envs/disasters/lib/python3.7/site-packages/sklearn/svm/_base.py\", line 965, in _fit_liblinear\n",
      "    solver_type = _get_liblinear_solver_type(multi_class, penalty, loss, dual)\n",
      "  File \"/Users/dklein/opt/anaconda3/envs/disasters/lib/python3.7/site-packages/sklearn/svm/_base.py\", line 823, in _get_liblinear_solver_type\n",
      "    % (error_string, penalty, loss, dual))\n",
      "ValueError: Unsupported set of arguments: The combination of penalty='l1' and loss='squared_hinge' are not supported when dual=True, Parameters: penalty='l1', loss='squared_hinge', dual=True\n",
      "\n",
      "  FitFailedWarning)\n",
      "/Users/dklein/opt/anaconda3/envs/disasters/lib/python3.7/site-packages/sklearn/svm/_base.py:977: ConvergenceWarning: Liblinear failed to converge, increase the number of iterations.\n",
      "  \"the number of iterations.\", ConvergenceWarning)\n",
      "/Users/dklein/opt/anaconda3/envs/disasters/lib/python3.7/site-packages/sklearn/svm/_base.py:977: ConvergenceWarning: Liblinear failed to converge, increase the number of iterations.\n",
      "  \"the number of iterations.\", ConvergenceWarning)\n",
      "/Users/dklein/opt/anaconda3/envs/disasters/lib/python3.7/site-packages/sklearn/svm/_base.py:977: ConvergenceWarning: Liblinear failed to converge, increase the number of iterations.\n",
      "  \"the number of iterations.\", ConvergenceWarning)\n"
     ]
    },
    {
     "name": "stderr",
     "output_type": "stream",
     "text": [
      "/Users/dklein/opt/anaconda3/envs/disasters/lib/python3.7/site-packages/sklearn/svm/_base.py:977: ConvergenceWarning: Liblinear failed to converge, increase the number of iterations.\n",
      "  \"the number of iterations.\", ConvergenceWarning)\n",
      "/Users/dklein/opt/anaconda3/envs/disasters/lib/python3.7/site-packages/sklearn/model_selection/_validation.py:552: FitFailedWarning: Estimator fit failed. The score on this train-test partition for these parameters will be set to nan. Details: \n",
      "Traceback (most recent call last):\n",
      "  File \"/Users/dklein/opt/anaconda3/envs/disasters/lib/python3.7/site-packages/sklearn/model_selection/_validation.py\", line 531, in _fit_and_score\n",
      "    estimator.fit(X_train, y_train, **fit_params)\n",
      "  File \"/Users/dklein/opt/anaconda3/envs/disasters/lib/python3.7/site-packages/sklearn/svm/_classes.py\", line 237, in fit\n",
      "    self.loss, sample_weight=sample_weight)\n",
      "  File \"/Users/dklein/opt/anaconda3/envs/disasters/lib/python3.7/site-packages/sklearn/svm/_base.py\", line 965, in _fit_liblinear\n",
      "    solver_type = _get_liblinear_solver_type(multi_class, penalty, loss, dual)\n",
      "  File \"/Users/dklein/opt/anaconda3/envs/disasters/lib/python3.7/site-packages/sklearn/svm/_base.py\", line 823, in _get_liblinear_solver_type\n",
      "    % (error_string, penalty, loss, dual))\n",
      "ValueError: Unsupported set of arguments: The combination of penalty='l1' and loss='squared_hinge' are not supported when dual=True, Parameters: penalty='l1', loss='squared_hinge', dual=True\n",
      "\n",
      "  FitFailedWarning)\n",
      "/Users/dklein/opt/anaconda3/envs/disasters/lib/python3.7/site-packages/sklearn/svm/_base.py:977: ConvergenceWarning: Liblinear failed to converge, increase the number of iterations.\n",
      "  \"the number of iterations.\", ConvergenceWarning)\n",
      "/Users/dklein/opt/anaconda3/envs/disasters/lib/python3.7/site-packages/sklearn/model_selection/_validation.py:552: FitFailedWarning: Estimator fit failed. The score on this train-test partition for these parameters will be set to nan. Details: \n",
      "Traceback (most recent call last):\n",
      "  File \"/Users/dklein/opt/anaconda3/envs/disasters/lib/python3.7/site-packages/sklearn/model_selection/_validation.py\", line 531, in _fit_and_score\n",
      "    estimator.fit(X_train, y_train, **fit_params)\n",
      "  File \"/Users/dklein/opt/anaconda3/envs/disasters/lib/python3.7/site-packages/sklearn/svm/_classes.py\", line 237, in fit\n",
      "    self.loss, sample_weight=sample_weight)\n",
      "  File \"/Users/dklein/opt/anaconda3/envs/disasters/lib/python3.7/site-packages/sklearn/svm/_base.py\", line 965, in _fit_liblinear\n",
      "    solver_type = _get_liblinear_solver_type(multi_class, penalty, loss, dual)\n",
      "  File \"/Users/dklein/opt/anaconda3/envs/disasters/lib/python3.7/site-packages/sklearn/svm/_base.py\", line 823, in _get_liblinear_solver_type\n",
      "    % (error_string, penalty, loss, dual))\n",
      "ValueError: Unsupported set of arguments: The combination of penalty='l1' and loss='squared_hinge' are not supported when dual=True, Parameters: penalty='l1', loss='squared_hinge', dual=True\n",
      "\n",
      "  FitFailedWarning)\n",
      "/Users/dklein/opt/anaconda3/envs/disasters/lib/python3.7/site-packages/sklearn/model_selection/_validation.py:552: FitFailedWarning: Estimator fit failed. The score on this train-test partition for these parameters will be set to nan. Details: \n",
      "Traceback (most recent call last):\n",
      "  File \"/Users/dklein/opt/anaconda3/envs/disasters/lib/python3.7/site-packages/sklearn/model_selection/_validation.py\", line 531, in _fit_and_score\n",
      "    estimator.fit(X_train, y_train, **fit_params)\n",
      "  File \"/Users/dklein/opt/anaconda3/envs/disasters/lib/python3.7/site-packages/sklearn/svm/_classes.py\", line 237, in fit\n",
      "    self.loss, sample_weight=sample_weight)\n",
      "  File \"/Users/dklein/opt/anaconda3/envs/disasters/lib/python3.7/site-packages/sklearn/svm/_base.py\", line 965, in _fit_liblinear\n",
      "    solver_type = _get_liblinear_solver_type(multi_class, penalty, loss, dual)\n",
      "  File \"/Users/dklein/opt/anaconda3/envs/disasters/lib/python3.7/site-packages/sklearn/svm/_base.py\", line 823, in _get_liblinear_solver_type\n",
      "    % (error_string, penalty, loss, dual))\n",
      "ValueError: Unsupported set of arguments: The combination of penalty='l1' and loss='squared_hinge' are not supported when dual=True, Parameters: penalty='l1', loss='squared_hinge', dual=True\n",
      "\n",
      "  FitFailedWarning)\n",
      "/Users/dklein/opt/anaconda3/envs/disasters/lib/python3.7/site-packages/sklearn/model_selection/_validation.py:552: FitFailedWarning: Estimator fit failed. The score on this train-test partition for these parameters will be set to nan. Details: \n",
      "Traceback (most recent call last):\n",
      "  File \"/Users/dklein/opt/anaconda3/envs/disasters/lib/python3.7/site-packages/sklearn/model_selection/_validation.py\", line 531, in _fit_and_score\n",
      "    estimator.fit(X_train, y_train, **fit_params)\n",
      "  File \"/Users/dklein/opt/anaconda3/envs/disasters/lib/python3.7/site-packages/sklearn/svm/_classes.py\", line 237, in fit\n",
      "    self.loss, sample_weight=sample_weight)\n",
      "  File \"/Users/dklein/opt/anaconda3/envs/disasters/lib/python3.7/site-packages/sklearn/svm/_base.py\", line 965, in _fit_liblinear\n",
      "    solver_type = _get_liblinear_solver_type(multi_class, penalty, loss, dual)\n",
      "  File \"/Users/dklein/opt/anaconda3/envs/disasters/lib/python3.7/site-packages/sklearn/svm/_base.py\", line 823, in _get_liblinear_solver_type\n",
      "    % (error_string, penalty, loss, dual))\n",
      "ValueError: Unsupported set of arguments: The combination of penalty='l1' and loss='squared_hinge' are not supported when dual=True, Parameters: penalty='l1', loss='squared_hinge', dual=True\n",
      "\n",
      "  FitFailedWarning)\n",
      "/Users/dklein/opt/anaconda3/envs/disasters/lib/python3.7/site-packages/sklearn/model_selection/_validation.py:552: FitFailedWarning: Estimator fit failed. The score on this train-test partition for these parameters will be set to nan. Details: \n",
      "Traceback (most recent call last):\n",
      "  File \"/Users/dklein/opt/anaconda3/envs/disasters/lib/python3.7/site-packages/sklearn/model_selection/_validation.py\", line 531, in _fit_and_score\n",
      "    estimator.fit(X_train, y_train, **fit_params)\n",
      "  File \"/Users/dklein/opt/anaconda3/envs/disasters/lib/python3.7/site-packages/sklearn/svm/_classes.py\", line 237, in fit\n",
      "    self.loss, sample_weight=sample_weight)\n",
      "  File \"/Users/dklein/opt/anaconda3/envs/disasters/lib/python3.7/site-packages/sklearn/svm/_base.py\", line 965, in _fit_liblinear\n",
      "    solver_type = _get_liblinear_solver_type(multi_class, penalty, loss, dual)\n",
      "  File \"/Users/dklein/opt/anaconda3/envs/disasters/lib/python3.7/site-packages/sklearn/svm/_base.py\", line 823, in _get_liblinear_solver_type\n",
      "    % (error_string, penalty, loss, dual))\n",
      "ValueError: Unsupported set of arguments: The combination of penalty='l1' and loss='squared_hinge' are not supported when dual=True, Parameters: penalty='l1', loss='squared_hinge', dual=True\n",
      "\n",
      "  FitFailedWarning)\n",
      "/Users/dklein/opt/anaconda3/envs/disasters/lib/python3.7/site-packages/sklearn/model_selection/_validation.py:552: FitFailedWarning: Estimator fit failed. The score on this train-test partition for these parameters will be set to nan. Details: \n",
      "Traceback (most recent call last):\n",
      "  File \"/Users/dklein/opt/anaconda3/envs/disasters/lib/python3.7/site-packages/sklearn/model_selection/_validation.py\", line 531, in _fit_and_score\n",
      "    estimator.fit(X_train, y_train, **fit_params)\n",
      "  File \"/Users/dklein/opt/anaconda3/envs/disasters/lib/python3.7/site-packages/sklearn/svm/_classes.py\", line 237, in fit\n",
      "    self.loss, sample_weight=sample_weight)\n",
      "  File \"/Users/dklein/opt/anaconda3/envs/disasters/lib/python3.7/site-packages/sklearn/svm/_base.py\", line 965, in _fit_liblinear\n",
      "    solver_type = _get_liblinear_solver_type(multi_class, penalty, loss, dual)\n",
      "  File \"/Users/dklein/opt/anaconda3/envs/disasters/lib/python3.7/site-packages/sklearn/svm/_base.py\", line 823, in _get_liblinear_solver_type\n",
      "    % (error_string, penalty, loss, dual))\n",
      "ValueError: Unsupported set of arguments: The combination of penalty='l1' and loss='squared_hinge' are not supported when dual=True, Parameters: penalty='l1', loss='squared_hinge', dual=True\n",
      "\n",
      "  FitFailedWarning)\n",
      "/Users/dklein/opt/anaconda3/envs/disasters/lib/python3.7/site-packages/sklearn/svm/_base.py:977: ConvergenceWarning: Liblinear failed to converge, increase the number of iterations.\n",
      "  \"the number of iterations.\", ConvergenceWarning)\n",
      "/Users/dklein/opt/anaconda3/envs/disasters/lib/python3.7/site-packages/sklearn/svm/_base.py:977: ConvergenceWarning: Liblinear failed to converge, increase the number of iterations.\n",
      "  \"the number of iterations.\", ConvergenceWarning)\n",
      "/Users/dklein/opt/anaconda3/envs/disasters/lib/python3.7/site-packages/sklearn/model_selection/_validation.py:552: FitFailedWarning: Estimator fit failed. The score on this train-test partition for these parameters will be set to nan. Details: \n",
      "Traceback (most recent call last):\n",
      "  File \"/Users/dklein/opt/anaconda3/envs/disasters/lib/python3.7/site-packages/sklearn/model_selection/_validation.py\", line 531, in _fit_and_score\n",
      "    estimator.fit(X_train, y_train, **fit_params)\n",
      "  File \"/Users/dklein/opt/anaconda3/envs/disasters/lib/python3.7/site-packages/sklearn/naive_bayes.py\", line 641, in fit\n",
      "    self._count(X, Y)\n",
      "  File \"/Users/dklein/opt/anaconda3/envs/disasters/lib/python3.7/site-packages/sklearn/naive_bayes.py\", line 763, in _count\n",
      "    check_non_negative(X, \"MultinomialNB (input X)\")\n",
      "  File \"/Users/dklein/opt/anaconda3/envs/disasters/lib/python3.7/site-packages/sklearn/utils/validation.py\", line 1046, in check_non_negative\n",
      "    raise ValueError(\"Negative values in data passed to %s\" % whom)\n",
      "ValueError: Negative values in data passed to MultinomialNB (input X)\n",
      "\n",
      "  FitFailedWarning)\n",
      "/Users/dklein/opt/anaconda3/envs/disasters/lib/python3.7/site-packages/sklearn/svm/_base.py:977: ConvergenceWarning: Liblinear failed to converge, increase the number of iterations.\n",
      "  \"the number of iterations.\", ConvergenceWarning)\n",
      "/Users/dklein/opt/anaconda3/envs/disasters/lib/python3.7/site-packages/sklearn/model_selection/_validation.py:552: FitFailedWarning: Estimator fit failed. The score on this train-test partition for these parameters will be set to nan. Details: \n",
      "Traceback (most recent call last):\n",
      "  File \"/Users/dklein/opt/anaconda3/envs/disasters/lib/python3.7/site-packages/sklearn/model_selection/_validation.py\", line 531, in _fit_and_score\n",
      "    estimator.fit(X_train, y_train, **fit_params)\n",
      "  File \"/Users/dklein/opt/anaconda3/envs/disasters/lib/python3.7/site-packages/sklearn/svm/_classes.py\", line 237, in fit\n",
      "    self.loss, sample_weight=sample_weight)\n",
      "  File \"/Users/dklein/opt/anaconda3/envs/disasters/lib/python3.7/site-packages/sklearn/svm/_base.py\", line 965, in _fit_liblinear\n",
      "    solver_type = _get_liblinear_solver_type(multi_class, penalty, loss, dual)\n",
      "  File \"/Users/dklein/opt/anaconda3/envs/disasters/lib/python3.7/site-packages/sklearn/svm/_base.py\", line 823, in _get_liblinear_solver_type\n",
      "    % (error_string, penalty, loss, dual))\n",
      "ValueError: Unsupported set of arguments: The combination of penalty='l1' and loss='squared_hinge' are not supported when dual=True, Parameters: penalty='l1', loss='squared_hinge', dual=True\n",
      "\n",
      "  FitFailedWarning)\n",
      "/Users/dklein/opt/anaconda3/envs/disasters/lib/python3.7/site-packages/sklearn/model_selection/_validation.py:552: FitFailedWarning: Estimator fit failed. The score on this train-test partition for these parameters will be set to nan. Details: \n",
      "Traceback (most recent call last):\n",
      "  File \"/Users/dklein/opt/anaconda3/envs/disasters/lib/python3.7/site-packages/sklearn/model_selection/_validation.py\", line 531, in _fit_and_score\n",
      "    estimator.fit(X_train, y_train, **fit_params)\n",
      "  File \"/Users/dklein/opt/anaconda3/envs/disasters/lib/python3.7/site-packages/sklearn/svm/_classes.py\", line 237, in fit\n",
      "    self.loss, sample_weight=sample_weight)\n",
      "  File \"/Users/dklein/opt/anaconda3/envs/disasters/lib/python3.7/site-packages/sklearn/svm/_base.py\", line 965, in _fit_liblinear\n",
      "    solver_type = _get_liblinear_solver_type(multi_class, penalty, loss, dual)\n",
      "  File \"/Users/dklein/opt/anaconda3/envs/disasters/lib/python3.7/site-packages/sklearn/svm/_base.py\", line 823, in _get_liblinear_solver_type\n",
      "    % (error_string, penalty, loss, dual))\n",
      "ValueError: Unsupported set of arguments: The combination of penalty='l1' and loss='squared_hinge' are not supported when dual=True, Parameters: penalty='l1', loss='squared_hinge', dual=True\n",
      "\n",
      "  FitFailedWarning)\n",
      "/Users/dklein/opt/anaconda3/envs/disasters/lib/python3.7/site-packages/sklearn/model_selection/_validation.py:552: FitFailedWarning: Estimator fit failed. The score on this train-test partition for these parameters will be set to nan. Details: \n",
      "Traceback (most recent call last):\n",
      "  File \"/Users/dklein/opt/anaconda3/envs/disasters/lib/python3.7/site-packages/sklearn/model_selection/_validation.py\", line 531, in _fit_and_score\n",
      "    estimator.fit(X_train, y_train, **fit_params)\n",
      "  File \"/Users/dklein/opt/anaconda3/envs/disasters/lib/python3.7/site-packages/sklearn/svm/_classes.py\", line 237, in fit\n",
      "    self.loss, sample_weight=sample_weight)\n",
      "  File \"/Users/dklein/opt/anaconda3/envs/disasters/lib/python3.7/site-packages/sklearn/svm/_base.py\", line 965, in _fit_liblinear\n",
      "    solver_type = _get_liblinear_solver_type(multi_class, penalty, loss, dual)\n",
      "  File \"/Users/dklein/opt/anaconda3/envs/disasters/lib/python3.7/site-packages/sklearn/svm/_base.py\", line 823, in _get_liblinear_solver_type\n",
      "    % (error_string, penalty, loss, dual))\n",
      "ValueError: Unsupported set of arguments: The combination of penalty='l1' and loss='squared_hinge' are not supported when dual=True, Parameters: penalty='l1', loss='squared_hinge', dual=True\n",
      "\n",
      "  FitFailedWarning)\n",
      "/Users/dklein/opt/anaconda3/envs/disasters/lib/python3.7/site-packages/sklearn/model_selection/_validation.py:552: FitFailedWarning: Estimator fit failed. The score on this train-test partition for these parameters will be set to nan. Details: \n",
      "Traceback (most recent call last):\n",
      "  File \"/Users/dklein/opt/anaconda3/envs/disasters/lib/python3.7/site-packages/sklearn/model_selection/_validation.py\", line 531, in _fit_and_score\n",
      "    estimator.fit(X_train, y_train, **fit_params)\n",
      "  File \"/Users/dklein/opt/anaconda3/envs/disasters/lib/python3.7/site-packages/sklearn/svm/_classes.py\", line 237, in fit\n",
      "    self.loss, sample_weight=sample_weight)\n",
      "  File \"/Users/dklein/opt/anaconda3/envs/disasters/lib/python3.7/site-packages/sklearn/svm/_base.py\", line 965, in _fit_liblinear\n",
      "    solver_type = _get_liblinear_solver_type(multi_class, penalty, loss, dual)\n",
      "  File \"/Users/dklein/opt/anaconda3/envs/disasters/lib/python3.7/site-packages/sklearn/svm/_base.py\", line 823, in _get_liblinear_solver_type\n",
      "    % (error_string, penalty, loss, dual))\n",
      "ValueError: Unsupported set of arguments: The combination of penalty='l1' and loss='squared_hinge' are not supported when dual=True, Parameters: penalty='l1', loss='squared_hinge', dual=True\n",
      "\n",
      "  FitFailedWarning)\n",
      "/Users/dklein/opt/anaconda3/envs/disasters/lib/python3.7/site-packages/sklearn/svm/_base.py:977: ConvergenceWarning: Liblinear failed to converge, increase the number of iterations.\n",
      "  \"the number of iterations.\", ConvergenceWarning)\n",
      "/Users/dklein/opt/anaconda3/envs/disasters/lib/python3.7/site-packages/sklearn/svm/_base.py:977: ConvergenceWarning: Liblinear failed to converge, increase the number of iterations.\n",
      "  \"the number of iterations.\", ConvergenceWarning)\n",
      "/Users/dklein/opt/anaconda3/envs/disasters/lib/python3.7/site-packages/sklearn/svm/_base.py:977: ConvergenceWarning: Liblinear failed to converge, increase the number of iterations.\n",
      "  \"the number of iterations.\", ConvergenceWarning)\n",
      "/Users/dklein/opt/anaconda3/envs/disasters/lib/python3.7/site-packages/sklearn/svm/_base.py:977: ConvergenceWarning: Liblinear failed to converge, increase the number of iterations.\n",
      "  \"the number of iterations.\", ConvergenceWarning)\n"
     ]
    },
    {
     "name": "stderr",
     "output_type": "stream",
     "text": [
      "/Users/dklein/opt/anaconda3/envs/disasters/lib/python3.7/site-packages/sklearn/model_selection/_validation.py:552: FitFailedWarning: Estimator fit failed. The score on this train-test partition for these parameters will be set to nan. Details: \n",
      "Traceback (most recent call last):\n",
      "  File \"/Users/dklein/opt/anaconda3/envs/disasters/lib/python3.7/site-packages/sklearn/model_selection/_validation.py\", line 531, in _fit_and_score\n",
      "    estimator.fit(X_train, y_train, **fit_params)\n",
      "  File \"/Users/dklein/opt/anaconda3/envs/disasters/lib/python3.7/site-packages/sklearn/naive_bayes.py\", line 641, in fit\n",
      "    self._count(X, Y)\n",
      "  File \"/Users/dklein/opt/anaconda3/envs/disasters/lib/python3.7/site-packages/sklearn/naive_bayes.py\", line 763, in _count\n",
      "    check_non_negative(X, \"MultinomialNB (input X)\")\n",
      "  File \"/Users/dklein/opt/anaconda3/envs/disasters/lib/python3.7/site-packages/sklearn/utils/validation.py\", line 1046, in check_non_negative\n",
      "    raise ValueError(\"Negative values in data passed to %s\" % whom)\n",
      "ValueError: Negative values in data passed to MultinomialNB (input X)\n",
      "\n",
      "  FitFailedWarning)\n",
      "/Users/dklein/opt/anaconda3/envs/disasters/lib/python3.7/site-packages/sklearn/svm/_base.py:977: ConvergenceWarning: Liblinear failed to converge, increase the number of iterations.\n",
      "  \"the number of iterations.\", ConvergenceWarning)\n",
      "/Users/dklein/opt/anaconda3/envs/disasters/lib/python3.7/site-packages/sklearn/svm/_base.py:977: ConvergenceWarning: Liblinear failed to converge, increase the number of iterations.\n",
      "  \"the number of iterations.\", ConvergenceWarning)\n",
      "/Users/dklein/opt/anaconda3/envs/disasters/lib/python3.7/site-packages/sklearn/model_selection/_validation.py:552: FitFailedWarning: Estimator fit failed. The score on this train-test partition for these parameters will be set to nan. Details: \n",
      "Traceback (most recent call last):\n",
      "  File \"/Users/dklein/opt/anaconda3/envs/disasters/lib/python3.7/site-packages/sklearn/model_selection/_validation.py\", line 531, in _fit_and_score\n",
      "    estimator.fit(X_train, y_train, **fit_params)\n",
      "  File \"/Users/dklein/opt/anaconda3/envs/disasters/lib/python3.7/site-packages/sklearn/svm/_classes.py\", line 237, in fit\n",
      "    self.loss, sample_weight=sample_weight)\n",
      "  File \"/Users/dklein/opt/anaconda3/envs/disasters/lib/python3.7/site-packages/sklearn/svm/_base.py\", line 965, in _fit_liblinear\n",
      "    solver_type = _get_liblinear_solver_type(multi_class, penalty, loss, dual)\n",
      "  File \"/Users/dklein/opt/anaconda3/envs/disasters/lib/python3.7/site-packages/sklearn/svm/_base.py\", line 823, in _get_liblinear_solver_type\n",
      "    % (error_string, penalty, loss, dual))\n",
      "ValueError: Unsupported set of arguments: The combination of penalty='l1' and loss='squared_hinge' are not supported when dual=True, Parameters: penalty='l1', loss='squared_hinge', dual=True\n",
      "\n",
      "  FitFailedWarning)\n",
      "/Users/dklein/opt/anaconda3/envs/disasters/lib/python3.7/site-packages/sklearn/model_selection/_validation.py:552: FitFailedWarning: Estimator fit failed. The score on this train-test partition for these parameters will be set to nan. Details: \n",
      "Traceback (most recent call last):\n",
      "  File \"/Users/dklein/opt/anaconda3/envs/disasters/lib/python3.7/site-packages/sklearn/model_selection/_validation.py\", line 531, in _fit_and_score\n",
      "    estimator.fit(X_train, y_train, **fit_params)\n",
      "  File \"/Users/dklein/opt/anaconda3/envs/disasters/lib/python3.7/site-packages/sklearn/svm/_classes.py\", line 237, in fit\n",
      "    self.loss, sample_weight=sample_weight)\n",
      "  File \"/Users/dklein/opt/anaconda3/envs/disasters/lib/python3.7/site-packages/sklearn/svm/_base.py\", line 965, in _fit_liblinear\n",
      "    solver_type = _get_liblinear_solver_type(multi_class, penalty, loss, dual)\n",
      "  File \"/Users/dklein/opt/anaconda3/envs/disasters/lib/python3.7/site-packages/sklearn/svm/_base.py\", line 823, in _get_liblinear_solver_type\n",
      "    % (error_string, penalty, loss, dual))\n",
      "ValueError: Unsupported set of arguments: The combination of penalty='l1' and loss='squared_hinge' are not supported when dual=True, Parameters: penalty='l1', loss='squared_hinge', dual=True\n",
      "\n",
      "  FitFailedWarning)\n",
      "/Users/dklein/opt/anaconda3/envs/disasters/lib/python3.7/site-packages/sklearn/model_selection/_validation.py:552: FitFailedWarning: Estimator fit failed. The score on this train-test partition for these parameters will be set to nan. Details: \n",
      "Traceback (most recent call last):\n",
      "  File \"/Users/dklein/opt/anaconda3/envs/disasters/lib/python3.7/site-packages/sklearn/model_selection/_validation.py\", line 531, in _fit_and_score\n",
      "    estimator.fit(X_train, y_train, **fit_params)\n",
      "  File \"/Users/dklein/opt/anaconda3/envs/disasters/lib/python3.7/site-packages/sklearn/svm/_classes.py\", line 237, in fit\n",
      "    self.loss, sample_weight=sample_weight)\n",
      "  File \"/Users/dklein/opt/anaconda3/envs/disasters/lib/python3.7/site-packages/sklearn/svm/_base.py\", line 965, in _fit_liblinear\n",
      "    solver_type = _get_liblinear_solver_type(multi_class, penalty, loss, dual)\n",
      "  File \"/Users/dklein/opt/anaconda3/envs/disasters/lib/python3.7/site-packages/sklearn/svm/_base.py\", line 823, in _get_liblinear_solver_type\n",
      "    % (error_string, penalty, loss, dual))\n",
      "ValueError: Unsupported set of arguments: The combination of penalty='l1' and loss='squared_hinge' are not supported when dual=True, Parameters: penalty='l1', loss='squared_hinge', dual=True\n",
      "\n",
      "  FitFailedWarning)\n",
      "/Users/dklein/opt/anaconda3/envs/disasters/lib/python3.7/site-packages/sklearn/model_selection/_validation.py:552: FitFailedWarning: Estimator fit failed. The score on this train-test partition for these parameters will be set to nan. Details: \n",
      "Traceback (most recent call last):\n",
      "  File \"/Users/dklein/opt/anaconda3/envs/disasters/lib/python3.7/site-packages/sklearn/model_selection/_validation.py\", line 531, in _fit_and_score\n",
      "    estimator.fit(X_train, y_train, **fit_params)\n",
      "  File \"/Users/dklein/opt/anaconda3/envs/disasters/lib/python3.7/site-packages/sklearn/svm/_classes.py\", line 237, in fit\n",
      "    self.loss, sample_weight=sample_weight)\n",
      "  File \"/Users/dklein/opt/anaconda3/envs/disasters/lib/python3.7/site-packages/sklearn/svm/_base.py\", line 965, in _fit_liblinear\n",
      "    solver_type = _get_liblinear_solver_type(multi_class, penalty, loss, dual)\n",
      "  File \"/Users/dklein/opt/anaconda3/envs/disasters/lib/python3.7/site-packages/sklearn/svm/_base.py\", line 823, in _get_liblinear_solver_type\n",
      "    % (error_string, penalty, loss, dual))\n",
      "ValueError: Unsupported set of arguments: The combination of penalty='l1' and loss='squared_hinge' are not supported when dual=True, Parameters: penalty='l1', loss='squared_hinge', dual=True\n",
      "\n",
      "  FitFailedWarning)\n",
      "/Users/dklein/opt/anaconda3/envs/disasters/lib/python3.7/site-packages/sklearn/model_selection/_validation.py:552: FitFailedWarning: Estimator fit failed. The score on this train-test partition for these parameters will be set to nan. Details: \n",
      "Traceback (most recent call last):\n",
      "  File \"/Users/dklein/opt/anaconda3/envs/disasters/lib/python3.7/site-packages/sklearn/model_selection/_validation.py\", line 531, in _fit_and_score\n",
      "    estimator.fit(X_train, y_train, **fit_params)\n",
      "  File \"/Users/dklein/opt/anaconda3/envs/disasters/lib/python3.7/site-packages/sklearn/svm/_classes.py\", line 237, in fit\n",
      "    self.loss, sample_weight=sample_weight)\n",
      "  File \"/Users/dklein/opt/anaconda3/envs/disasters/lib/python3.7/site-packages/sklearn/svm/_base.py\", line 965, in _fit_liblinear\n",
      "    solver_type = _get_liblinear_solver_type(multi_class, penalty, loss, dual)\n",
      "  File \"/Users/dklein/opt/anaconda3/envs/disasters/lib/python3.7/site-packages/sklearn/svm/_base.py\", line 823, in _get_liblinear_solver_type\n",
      "    % (error_string, penalty, loss, dual))\n",
      "ValueError: Unsupported set of arguments: The combination of penalty='l1' and loss='squared_hinge' are not supported when dual=True, Parameters: penalty='l1', loss='squared_hinge', dual=True\n",
      "\n",
      "  FitFailedWarning)\n",
      "/Users/dklein/opt/anaconda3/envs/disasters/lib/python3.7/site-packages/sklearn/svm/_base.py:977: ConvergenceWarning: Liblinear failed to converge, increase the number of iterations.\n",
      "  \"the number of iterations.\", ConvergenceWarning)\n",
      "/Users/dklein/opt/anaconda3/envs/disasters/lib/python3.7/site-packages/sklearn/svm/_base.py:977: ConvergenceWarning: Liblinear failed to converge, increase the number of iterations.\n",
      "  \"the number of iterations.\", ConvergenceWarning)\n",
      "/Users/dklein/opt/anaconda3/envs/disasters/lib/python3.7/site-packages/sklearn/model_selection/_validation.py:552: FitFailedWarning: Estimator fit failed. The score on this train-test partition for these parameters will be set to nan. Details: \n",
      "Traceback (most recent call last):\n",
      "  File \"/Users/dklein/opt/anaconda3/envs/disasters/lib/python3.7/site-packages/sklearn/model_selection/_validation.py\", line 531, in _fit_and_score\n",
      "    estimator.fit(X_train, y_train, **fit_params)\n",
      "  File \"/Users/dklein/opt/anaconda3/envs/disasters/lib/python3.7/site-packages/sklearn/svm/_classes.py\", line 237, in fit\n",
      "    self.loss, sample_weight=sample_weight)\n",
      "  File \"/Users/dklein/opt/anaconda3/envs/disasters/lib/python3.7/site-packages/sklearn/svm/_base.py\", line 965, in _fit_liblinear\n",
      "    solver_type = _get_liblinear_solver_type(multi_class, penalty, loss, dual)\n",
      "  File \"/Users/dklein/opt/anaconda3/envs/disasters/lib/python3.7/site-packages/sklearn/svm/_base.py\", line 823, in _get_liblinear_solver_type\n",
      "    % (error_string, penalty, loss, dual))\n",
      "ValueError: Unsupported set of arguments: The combination of penalty='l1' and loss='squared_hinge' are not supported when dual=True, Parameters: penalty='l1', loss='squared_hinge', dual=True\n",
      "\n",
      "  FitFailedWarning)\n",
      "/Users/dklein/opt/anaconda3/envs/disasters/lib/python3.7/site-packages/sklearn/model_selection/_validation.py:552: FitFailedWarning: Estimator fit failed. The score on this train-test partition for these parameters will be set to nan. Details: \n",
      "Traceback (most recent call last):\n",
      "  File \"/Users/dklein/opt/anaconda3/envs/disasters/lib/python3.7/site-packages/sklearn/model_selection/_validation.py\", line 531, in _fit_and_score\n",
      "    estimator.fit(X_train, y_train, **fit_params)\n",
      "  File \"/Users/dklein/opt/anaconda3/envs/disasters/lib/python3.7/site-packages/sklearn/svm/_classes.py\", line 237, in fit\n",
      "    self.loss, sample_weight=sample_weight)\n",
      "  File \"/Users/dklein/opt/anaconda3/envs/disasters/lib/python3.7/site-packages/sklearn/svm/_base.py\", line 965, in _fit_liblinear\n",
      "    solver_type = _get_liblinear_solver_type(multi_class, penalty, loss, dual)\n",
      "  File \"/Users/dklein/opt/anaconda3/envs/disasters/lib/python3.7/site-packages/sklearn/svm/_base.py\", line 823, in _get_liblinear_solver_type\n",
      "    % (error_string, penalty, loss, dual))\n",
      "ValueError: Unsupported set of arguments: The combination of penalty='l1' and loss='squared_hinge' are not supported when dual=True, Parameters: penalty='l1', loss='squared_hinge', dual=True\n",
      "\n",
      "  FitFailedWarning)\n",
      "/Users/dklein/opt/anaconda3/envs/disasters/lib/python3.7/site-packages/sklearn/model_selection/_validation.py:552: FitFailedWarning: Estimator fit failed. The score on this train-test partition for these parameters will be set to nan. Details: \n",
      "Traceback (most recent call last):\n",
      "  File \"/Users/dklein/opt/anaconda3/envs/disasters/lib/python3.7/site-packages/sklearn/model_selection/_validation.py\", line 531, in _fit_and_score\n",
      "    estimator.fit(X_train, y_train, **fit_params)\n",
      "  File \"/Users/dklein/opt/anaconda3/envs/disasters/lib/python3.7/site-packages/sklearn/svm/_classes.py\", line 237, in fit\n",
      "    self.loss, sample_weight=sample_weight)\n",
      "  File \"/Users/dklein/opt/anaconda3/envs/disasters/lib/python3.7/site-packages/sklearn/svm/_base.py\", line 965, in _fit_liblinear\n",
      "    solver_type = _get_liblinear_solver_type(multi_class, penalty, loss, dual)\n",
      "  File \"/Users/dklein/opt/anaconda3/envs/disasters/lib/python3.7/site-packages/sklearn/svm/_base.py\", line 823, in _get_liblinear_solver_type\n",
      "    % (error_string, penalty, loss, dual))\n",
      "ValueError: Unsupported set of arguments: The combination of penalty='l1' and loss='squared_hinge' are not supported when dual=True, Parameters: penalty='l1', loss='squared_hinge', dual=True\n",
      "\n",
      "  FitFailedWarning)\n",
      "/Users/dklein/opt/anaconda3/envs/disasters/lib/python3.7/site-packages/sklearn/svm/_base.py:977: ConvergenceWarning: Liblinear failed to converge, increase the number of iterations.\n",
      "  \"the number of iterations.\", ConvergenceWarning)\n",
      "/Users/dklein/opt/anaconda3/envs/disasters/lib/python3.7/site-packages/sklearn/svm/_base.py:977: ConvergenceWarning: Liblinear failed to converge, increase the number of iterations.\n",
      "  \"the number of iterations.\", ConvergenceWarning)\n",
      "/Users/dklein/opt/anaconda3/envs/disasters/lib/python3.7/site-packages/sklearn/svm/_base.py:977: ConvergenceWarning: Liblinear failed to converge, increase the number of iterations.\n",
      "  \"the number of iterations.\", ConvergenceWarning)\n"
     ]
    },
    {
     "name": "stderr",
     "output_type": "stream",
     "text": [
      "/Users/dklein/opt/anaconda3/envs/disasters/lib/python3.7/site-packages/sklearn/model_selection/_validation.py:552: FitFailedWarning: Estimator fit failed. The score on this train-test partition for these parameters will be set to nan. Details: \n",
      "Traceback (most recent call last):\n",
      "  File \"/Users/dklein/opt/anaconda3/envs/disasters/lib/python3.7/site-packages/sklearn/model_selection/_validation.py\", line 531, in _fit_and_score\n",
      "    estimator.fit(X_train, y_train, **fit_params)\n",
      "  File \"/Users/dklein/opt/anaconda3/envs/disasters/lib/python3.7/site-packages/sklearn/svm/_classes.py\", line 237, in fit\n",
      "    self.loss, sample_weight=sample_weight)\n",
      "  File \"/Users/dklein/opt/anaconda3/envs/disasters/lib/python3.7/site-packages/sklearn/svm/_base.py\", line 965, in _fit_liblinear\n",
      "    solver_type = _get_liblinear_solver_type(multi_class, penalty, loss, dual)\n",
      "  File \"/Users/dklein/opt/anaconda3/envs/disasters/lib/python3.7/site-packages/sklearn/svm/_base.py\", line 823, in _get_liblinear_solver_type\n",
      "    % (error_string, penalty, loss, dual))\n",
      "ValueError: Unsupported set of arguments: The combination of penalty='l1' and loss='squared_hinge' are not supported when dual=True, Parameters: penalty='l1', loss='squared_hinge', dual=True\n",
      "\n",
      "  FitFailedWarning)\n",
      "/Users/dklein/opt/anaconda3/envs/disasters/lib/python3.7/site-packages/sklearn/svm/_base.py:977: ConvergenceWarning: Liblinear failed to converge, increase the number of iterations.\n",
      "  \"the number of iterations.\", ConvergenceWarning)\n",
      "/Users/dklein/opt/anaconda3/envs/disasters/lib/python3.7/site-packages/sklearn/svm/_base.py:977: ConvergenceWarning: Liblinear failed to converge, increase the number of iterations.\n",
      "  \"the number of iterations.\", ConvergenceWarning)\n",
      "/Users/dklein/opt/anaconda3/envs/disasters/lib/python3.7/site-packages/sklearn/svm/_base.py:977: ConvergenceWarning: Liblinear failed to converge, increase the number of iterations.\n",
      "  \"the number of iterations.\", ConvergenceWarning)\n"
     ]
    },
    {
     "name": "stdout",
     "output_type": "stream",
     "text": [
      "[15:52:31] WARNING: /opt/concourse/worker/volumes/live/7a2b9f41-3287-451b-6691-43e9a6c0910f/volume/xgboost-split_1619728204606/work/src/learner.cc:1061: Starting in XGBoost 1.3.0, the default evaluation metric used with the objective 'binary:logistic' was changed from 'error' to 'logloss'. Explicitly set eval_metric if you'd like to restore the old behavior.\n",
      "[15:53:00] WARNING: /opt/concourse/worker/volumes/live/7a2b9f41-3287-451b-6691-43e9a6c0910f/volume/xgboost-split_1619728204606/work/src/learner.cc:1061: Starting in XGBoost 1.3.0, the default evaluation metric used with the objective 'binary:logistic' was changed from 'error' to 'logloss'. Explicitly set eval_metric if you'd like to restore the old behavior.\n",
      "[15:53:29] WARNING: /opt/concourse/worker/volumes/live/7a2b9f41-3287-451b-6691-43e9a6c0910f/volume/xgboost-split_1619728204606/work/src/learner.cc:1061: Starting in XGBoost 1.3.0, the default evaluation metric used with the objective 'binary:logistic' was changed from 'error' to 'logloss'. Explicitly set eval_metric if you'd like to restore the old behavior.\n",
      "[15:53:57] WARNING: /opt/concourse/worker/volumes/live/7a2b9f41-3287-451b-6691-43e9a6c0910f/volume/xgboost-split_1619728204606/work/src/learner.cc:1061: Starting in XGBoost 1.3.0, the default evaluation metric used with the objective 'binary:logistic' was changed from 'error' to 'logloss'. Explicitly set eval_metric if you'd like to restore the old behavior.\n"
     ]
    },
    {
     "name": "stderr",
     "output_type": "stream",
     "text": [
      "/Users/dklein/opt/anaconda3/envs/disasters/lib/python3.7/site-packages/sklearn/model_selection/_validation.py:552: FitFailedWarning: Estimator fit failed. The score on this train-test partition for these parameters will be set to nan. Details: \n",
      "Traceback (most recent call last):\n",
      "  File \"/Users/dklein/opt/anaconda3/envs/disasters/lib/python3.7/site-packages/sklearn/model_selection/_validation.py\", line 531, in _fit_and_score\n",
      "    estimator.fit(X_train, y_train, **fit_params)\n",
      "  File \"/Users/dklein/opt/anaconda3/envs/disasters/lib/python3.7/site-packages/sklearn/naive_bayes.py\", line 641, in fit\n",
      "    self._count(X, Y)\n",
      "  File \"/Users/dklein/opt/anaconda3/envs/disasters/lib/python3.7/site-packages/sklearn/naive_bayes.py\", line 763, in _count\n",
      "    check_non_negative(X, \"MultinomialNB (input X)\")\n",
      "  File \"/Users/dklein/opt/anaconda3/envs/disasters/lib/python3.7/site-packages/sklearn/utils/validation.py\", line 1046, in check_non_negative\n",
      "    raise ValueError(\"Negative values in data passed to %s\" % whom)\n",
      "ValueError: Negative values in data passed to MultinomialNB (input X)\n",
      "\n",
      "  FitFailedWarning)\n",
      "/Users/dklein/opt/anaconda3/envs/disasters/lib/python3.7/site-packages/sklearn/svm/_base.py:977: ConvergenceWarning: Liblinear failed to converge, increase the number of iterations.\n",
      "  \"the number of iterations.\", ConvergenceWarning)\n",
      "/Users/dklein/opt/anaconda3/envs/disasters/lib/python3.7/site-packages/sklearn/model_selection/_validation.py:552: FitFailedWarning: Estimator fit failed. The score on this train-test partition for these parameters will be set to nan. Details: \n",
      "Traceback (most recent call last):\n",
      "  File \"/Users/dklein/opt/anaconda3/envs/disasters/lib/python3.7/site-packages/sklearn/model_selection/_validation.py\", line 531, in _fit_and_score\n",
      "    estimator.fit(X_train, y_train, **fit_params)\n",
      "  File \"/Users/dklein/opt/anaconda3/envs/disasters/lib/python3.7/site-packages/sklearn/svm/_classes.py\", line 237, in fit\n",
      "    self.loss, sample_weight=sample_weight)\n",
      "  File \"/Users/dklein/opt/anaconda3/envs/disasters/lib/python3.7/site-packages/sklearn/svm/_base.py\", line 965, in _fit_liblinear\n",
      "    solver_type = _get_liblinear_solver_type(multi_class, penalty, loss, dual)\n",
      "  File \"/Users/dklein/opt/anaconda3/envs/disasters/lib/python3.7/site-packages/sklearn/svm/_base.py\", line 823, in _get_liblinear_solver_type\n",
      "    % (error_string, penalty, loss, dual))\n",
      "ValueError: Unsupported set of arguments: The combination of penalty='l1' and loss='squared_hinge' are not supported when dual=True, Parameters: penalty='l1', loss='squared_hinge', dual=True\n",
      "\n",
      "  FitFailedWarning)\n",
      "/Users/dklein/opt/anaconda3/envs/disasters/lib/python3.7/site-packages/sklearn/model_selection/_validation.py:552: FitFailedWarning: Estimator fit failed. The score on this train-test partition for these parameters will be set to nan. Details: \n",
      "Traceback (most recent call last):\n",
      "  File \"/Users/dklein/opt/anaconda3/envs/disasters/lib/python3.7/site-packages/sklearn/model_selection/_validation.py\", line 531, in _fit_and_score\n",
      "    estimator.fit(X_train, y_train, **fit_params)\n",
      "  File \"/Users/dklein/opt/anaconda3/envs/disasters/lib/python3.7/site-packages/sklearn/svm/_classes.py\", line 237, in fit\n",
      "    self.loss, sample_weight=sample_weight)\n",
      "  File \"/Users/dklein/opt/anaconda3/envs/disasters/lib/python3.7/site-packages/sklearn/svm/_base.py\", line 965, in _fit_liblinear\n",
      "    solver_type = _get_liblinear_solver_type(multi_class, penalty, loss, dual)\n",
      "  File \"/Users/dklein/opt/anaconda3/envs/disasters/lib/python3.7/site-packages/sklearn/svm/_base.py\", line 823, in _get_liblinear_solver_type\n",
      "    % (error_string, penalty, loss, dual))\n",
      "ValueError: Unsupported set of arguments: The combination of penalty='l1' and loss='squared_hinge' are not supported when dual=True, Parameters: penalty='l1', loss='squared_hinge', dual=True\n",
      "\n",
      "  FitFailedWarning)\n",
      "/Users/dklein/opt/anaconda3/envs/disasters/lib/python3.7/site-packages/sklearn/model_selection/_validation.py:552: FitFailedWarning: Estimator fit failed. The score on this train-test partition for these parameters will be set to nan. Details: \n",
      "Traceback (most recent call last):\n",
      "  File \"/Users/dklein/opt/anaconda3/envs/disasters/lib/python3.7/site-packages/sklearn/model_selection/_validation.py\", line 531, in _fit_and_score\n",
      "    estimator.fit(X_train, y_train, **fit_params)\n",
      "  File \"/Users/dklein/opt/anaconda3/envs/disasters/lib/python3.7/site-packages/sklearn/svm/_classes.py\", line 237, in fit\n",
      "    self.loss, sample_weight=sample_weight)\n",
      "  File \"/Users/dklein/opt/anaconda3/envs/disasters/lib/python3.7/site-packages/sklearn/svm/_base.py\", line 965, in _fit_liblinear\n",
      "    solver_type = _get_liblinear_solver_type(multi_class, penalty, loss, dual)\n",
      "  File \"/Users/dklein/opt/anaconda3/envs/disasters/lib/python3.7/site-packages/sklearn/svm/_base.py\", line 823, in _get_liblinear_solver_type\n",
      "    % (error_string, penalty, loss, dual))\n",
      "ValueError: Unsupported set of arguments: The combination of penalty='l1' and loss='squared_hinge' are not supported when dual=True, Parameters: penalty='l1', loss='squared_hinge', dual=True\n",
      "\n",
      "  FitFailedWarning)\n",
      "/Users/dklein/opt/anaconda3/envs/disasters/lib/python3.7/site-packages/sklearn/svm/_base.py:977: ConvergenceWarning: Liblinear failed to converge, increase the number of iterations.\n",
      "  \"the number of iterations.\", ConvergenceWarning)\n",
      "/Users/dklein/opt/anaconda3/envs/disasters/lib/python3.7/site-packages/sklearn/svm/_base.py:977: ConvergenceWarning: Liblinear failed to converge, increase the number of iterations.\n",
      "  \"the number of iterations.\", ConvergenceWarning)\n",
      "/Users/dklein/opt/anaconda3/envs/disasters/lib/python3.7/site-packages/sklearn/svm/_base.py:977: ConvergenceWarning: Liblinear failed to converge, increase the number of iterations.\n",
      "  \"the number of iterations.\", ConvergenceWarning)\n"
     ]
    },
    {
     "name": "stdout",
     "output_type": "stream",
     "text": [
      "[15:54:29] WARNING: /opt/concourse/worker/volumes/live/7a2b9f41-3287-451b-6691-43e9a6c0910f/volume/xgboost-split_1619728204606/work/src/learner.cc:1061: Starting in XGBoost 1.3.0, the default evaluation metric used with the objective 'binary:logistic' was changed from 'error' to 'logloss'. Explicitly set eval_metric if you'd like to restore the old behavior.\n",
      "[15:55:00] WARNING: /opt/concourse/worker/volumes/live/7a2b9f41-3287-451b-6691-43e9a6c0910f/volume/xgboost-split_1619728204606/work/src/learner.cc:1061: Starting in XGBoost 1.3.0, the default evaluation metric used with the objective 'binary:logistic' was changed from 'error' to 'logloss'. Explicitly set eval_metric if you'd like to restore the old behavior.\n",
      "[15:55:31] WARNING: /opt/concourse/worker/volumes/live/7a2b9f41-3287-451b-6691-43e9a6c0910f/volume/xgboost-split_1619728204606/work/src/learner.cc:1061: Starting in XGBoost 1.3.0, the default evaluation metric used with the objective 'binary:logistic' was changed from 'error' to 'logloss'. Explicitly set eval_metric if you'd like to restore the old behavior.\n",
      "[15:56:03] WARNING: /opt/concourse/worker/volumes/live/7a2b9f41-3287-451b-6691-43e9a6c0910f/volume/xgboost-split_1619728204606/work/src/learner.cc:1061: Starting in XGBoost 1.3.0, the default evaluation metric used with the objective 'binary:logistic' was changed from 'error' to 'logloss'. Explicitly set eval_metric if you'd like to restore the old behavior.\n"
     ]
    },
    {
     "name": "stderr",
     "output_type": "stream",
     "text": [
      "[Parallel(n_jobs=1)]: Done  15 out of  15 | elapsed: 26.5min finished\n"
     ]
    },
    {
     "name": "stdout",
     "output_type": "stream",
     "text": [
      "[15:56:34] WARNING: /opt/concourse/worker/volumes/live/7a2b9f41-3287-451b-6691-43e9a6c0910f/volume/xgboost-split_1619728204606/work/src/learner.cc:1061: Starting in XGBoost 1.3.0, the default evaluation metric used with the objective 'binary:logistic' was changed from 'error' to 'logloss'. Explicitly set eval_metric if you'd like to restore the old behavior.\n"
     ]
    },
    {
     "data": {
      "text/plain": [
       "GridSearchCV(estimator=XGBClassifier(base_score=None, booster=None,\n",
       "                                     colsample_bylevel=None,\n",
       "                                     colsample_bynode=None,\n",
       "                                     colsample_bytree=None, gamma=None,\n",
       "                                     gpu_id=None, importance_type='gain',\n",
       "                                     interaction_constraints=None,\n",
       "                                     learning_rate=None, max_delta_step=None,\n",
       "                                     max_depth=None, min_child_weight=None,\n",
       "                                     missing=nan, monotone_constraints=None,\n",
       "                                     n_estimators=1000, n_jobs=None,\n",
       "                                     num_parallel_tree=None, random_state=42,\n",
       "                                     reg_alpha=None, reg_lambda=None,\n",
       "                                     scale_pos_weight=None, subsample=None,\n",
       "                                     tree_method=None, validate_parameters=None,\n",
       "                                     verbosity=None),\n",
       "             param_grid={'max_depth': range(3, 6)}, scoring='f1', verbose=1)"
      ]
     },
     "execution_count": 26,
     "metadata": {},
     "output_type": "execute_result"
    }
   ],
   "source": [
    "from xgboost import XGBClassifier\n",
    "params = {\n",
    "    \"max_depth\": range(3, 6),\n",
    "}\n",
    "gcv_xgb = GridSearchCV(XGBClassifier(n_estimators=1000, random_state=42), params, scoring=\"f1\", verbose=1)\n",
    "gcv_xgb.fit(X_train, y_train)"
   ]
  },
  {
   "cell_type": "code",
   "execution_count": 27,
   "metadata": {
    "execution": {
     "iopub.status.busy": "2021-09-03T08:45:00.556050Z",
     "iopub.status.idle": "2021-09-03T08:45:00.556660Z"
    }
   },
   "outputs": [
    {
     "name": "stdout",
     "output_type": "stream",
     "text": [
      "              precision    recall  f1-score   support\n",
      "\n",
      "         0.0       0.81      0.86      0.83      1462\n",
      "         1.0       0.79      0.73      0.76      1074\n",
      "\n",
      "    accuracy                           0.80      2536\n",
      "   macro avg       0.80      0.79      0.79      2536\n",
      "weighted avg       0.80      0.80      0.80      2536\n",
      "\n"
     ]
    }
   ],
   "source": [
    "y_pred = gcv_xgb.predict(X_test)\n",
    "print(classification_report(y_test, y_pred))"
   ]
  },
  {
   "cell_type": "code",
   "execution_count": 28,
   "metadata": {
    "execution": {
     "iopub.status.busy": "2021-09-03T08:45:00.557641Z",
     "iopub.status.idle": "2021-09-03T08:45:00.558290Z"
    }
   },
   "outputs": [
    {
     "name": "stdout",
     "output_type": "stream",
     "text": [
      "Best estimator: XGBClassifier(base_score=0.5, booster='gbtree', colsample_bylevel=1,\n",
      "              colsample_bynode=1, colsample_bytree=1, gamma=0, gpu_id=-1,\n",
      "              importance_type='gain', interaction_constraints='',\n",
      "              learning_rate=0.300000012, max_delta_step=0, max_depth=4,\n",
      "              min_child_weight=1, missing=nan, monotone_constraints='()',\n",
      "              n_estimators=1000, n_jobs=8, num_parallel_tree=1, random_state=42,\n",
      "              reg_alpha=0, reg_lambda=1, scale_pos_weight=1, subsample=1,\n",
      "              tree_method='exact', validate_parameters=1, verbosity=None)\n",
      "Best F1 score: 0.7581860554480065\n",
      "Best params: {'max_depth': 4}\n"
     ]
    }
   ],
   "source": [
    "print(f\"Best estimator: {gcv_xgb.best_estimator_}\")\n",
    "print(f\"Best F1 score: {gcv_xgb.best_score_}\")\n",
    "print(f\"Best params: {gcv_xgb.best_params_}\")"
   ]
  },
  {
   "cell_type": "markdown",
   "metadata": {},
   "source": [
    "**Looks like these are all comparable, so let's just use XGBoost as it's faster**"
   ]
  },
  {
   "cell_type": "code",
   "execution_count": 29,
   "metadata": {},
   "outputs": [],
   "source": [
    "clf = XGBClassifier(**gcv_xgb.best_params_)"
   ]
  },
  {
   "cell_type": "code",
   "execution_count": 30,
   "metadata": {
    "execution": {
     "iopub.status.busy": "2021-09-03T08:45:00.559232Z",
     "iopub.status.idle": "2021-09-03T08:45:00.559862Z"
    }
   },
   "outputs": [
    {
     "name": "stdout",
     "output_type": "stream",
     "text": [
      "[15:57:11] WARNING: /opt/concourse/worker/volumes/live/7a2b9f41-3287-451b-6691-43e9a6c0910f/volume/xgboost-split_1619728204606/work/src/learner.cc:1061: Starting in XGBoost 1.3.0, the default evaluation metric used with the objective 'binary:logistic' was changed from 'error' to 'logloss'. Explicitly set eval_metric if you'd like to restore the old behavior.\n"
     ]
    },
    {
     "data": {
      "text/plain": [
       "XGBClassifier(base_score=0.5, booster='gbtree', colsample_bylevel=1,\n",
       "              colsample_bynode=1, colsample_bytree=1, gamma=0, gpu_id=-1,\n",
       "              importance_type='gain', interaction_constraints='',\n",
       "              learning_rate=0.300000012, max_delta_step=0, max_depth=4,\n",
       "              min_child_weight=1, missing=nan, monotone_constraints='()',\n",
       "              n_estimators=100, n_jobs=8, num_parallel_tree=1, random_state=0,\n",
       "              reg_alpha=0, reg_lambda=1, scale_pos_weight=1, subsample=1,\n",
       "              tree_method='exact', validate_parameters=1, verbosity=None)"
      ]
     },
     "execution_count": 30,
     "metadata": {},
     "output_type": "execute_result"
    }
   ],
   "source": [
    "clf.fit(X_train, y_train)"
   ]
  },
  {
   "cell_type": "code",
   "execution_count": 31,
   "metadata": {
    "execution": {
     "iopub.status.busy": "2021-09-03T08:45:00.560773Z",
     "iopub.status.idle": "2021-09-03T08:45:00.561395Z"
    }
   },
   "outputs": [],
   "source": [
    "y_pred = clf.predict(X_test)"
   ]
  },
  {
   "cell_type": "code",
   "execution_count": 32,
   "metadata": {
    "execution": {
     "iopub.status.busy": "2021-09-03T08:45:00.562313Z",
     "iopub.status.idle": "2021-09-03T08:45:00.562945Z"
    }
   },
   "outputs": [
    {
     "data": {
      "text/plain": [
       "array([[1253,  209],\n",
       "       [ 308,  766]])"
      ]
     },
     "execution_count": 32,
     "metadata": {},
     "output_type": "execute_result"
    }
   ],
   "source": [
    "confusion_matrix(y_test, y_pred)"
   ]
  },
  {
   "cell_type": "code",
   "execution_count": 33,
   "metadata": {
    "execution": {
     "iopub.status.busy": "2021-09-03T08:45:00.563928Z",
     "iopub.status.idle": "2021-09-03T08:45:00.564542Z"
    }
   },
   "outputs": [
    {
     "name": "stdout",
     "output_type": "stream",
     "text": [
      "              precision    recall  f1-score   support\n",
      "\n",
      "         0.0       0.80      0.86      0.83      1462\n",
      "         1.0       0.79      0.71      0.75      1074\n",
      "\n",
      "    accuracy                           0.80      2536\n",
      "   macro avg       0.79      0.79      0.79      2536\n",
      "weighted avg       0.80      0.80      0.79      2536\n",
      "\n"
     ]
    }
   ],
   "source": [
    "print(classification_report(y_test, y_pred))"
   ]
  },
  {
   "cell_type": "markdown",
   "metadata": {},
   "source": [
    "**Lets see if we can improve that score with a CNN**"
   ]
  },
  {
   "cell_type": "code",
   "execution_count": 34,
   "metadata": {},
   "outputs": [],
   "source": [
    "from keras.models import Sequential\n",
    "from keras import layers\n",
    "from keras.preprocessing import sequence\n",
    "from keras.preprocessing.text import Tokenizer"
   ]
  },
  {
   "cell_type": "code",
   "execution_count": 35,
   "metadata": {},
   "outputs": [],
   "source": [
    "df_cnn = df[[\"text\", \"target\"]].copy()"
   ]
  },
  {
   "cell_type": "markdown",
   "metadata": {},
   "source": [
    "**Let's strip out URLs from the content, as they may be broken up strangely**"
   ]
  },
  {
   "cell_type": "code",
   "execution_count": 36,
   "metadata": {},
   "outputs": [],
   "source": [
    "import re\n",
    "from nltk.corpus import stopwords\n",
    "STOPWORDS = stopwords.words('english')\n",
    "re_url = re.compile(r\"(https?:\\/\\/)?(www\\.)?[-a-zA-Z0-9@:%._\\+~#=]{2,256}\\.[a-z]{2,4}\\b([-a-zA-Z0-9@:%_\\+.~#?&//=]*)\", flags=re.IGNORECASE)\n",
    "def preprocess_text(text):\n",
    "    return \" \".join([w for w in re_url.sub(\"<URL>\", text).split(\" \") if w not in STOPWORDS])"
   ]
  },
  {
   "cell_type": "code",
   "execution_count": 37,
   "metadata": {},
   "outputs": [],
   "source": [
    "df_cnn[\"text\"] = df_cnn[\"text\"].apply(lambda x: preprocess_text(x))"
   ]
  },
  {
   "cell_type": "code",
   "execution_count": 38,
   "metadata": {},
   "outputs": [
    {
     "data": {
      "text/html": [
       "<div>\n",
       "<style scoped>\n",
       "    .dataframe tbody tr th:only-of-type {\n",
       "        vertical-align: middle;\n",
       "    }\n",
       "\n",
       "    .dataframe tbody tr th {\n",
       "        vertical-align: top;\n",
       "    }\n",
       "\n",
       "    .dataframe thead th {\n",
       "        text-align: right;\n",
       "    }\n",
       "</style>\n",
       "<table border=\"1\" class=\"dataframe\">\n",
       "  <thead>\n",
       "    <tr style=\"text-align: right;\">\n",
       "      <th></th>\n",
       "      <th>text</th>\n",
       "      <th>target</th>\n",
       "    </tr>\n",
       "    <tr>\n",
       "      <th>id</th>\n",
       "      <th></th>\n",
       "      <th></th>\n",
       "    </tr>\n",
       "  </thead>\n",
       "  <tbody>\n",
       "    <tr>\n",
       "      <th>1</th>\n",
       "      <td>Our Deeds Reason #earthquake May ALLAH Forgive us</td>\n",
       "      <td>1</td>\n",
       "    </tr>\n",
       "    <tr>\n",
       "      <th>4</th>\n",
       "      <td>Forest fire near La Ronge Sask. Canada</td>\n",
       "      <td>1</td>\n",
       "    </tr>\n",
       "    <tr>\n",
       "      <th>5</th>\n",
       "      <td>All residents asked 'shelter place' notified o...</td>\n",
       "      <td>1</td>\n",
       "    </tr>\n",
       "    <tr>\n",
       "      <th>6</th>\n",
       "      <td>13,000 people receive #wildfires evacuation or...</td>\n",
       "      <td>1</td>\n",
       "    </tr>\n",
       "    <tr>\n",
       "      <th>7</th>\n",
       "      <td>Just got sent photo Ruby #Alaska smoke #wildfi...</td>\n",
       "      <td>1</td>\n",
       "    </tr>\n",
       "    <tr>\n",
       "      <th>...</th>\n",
       "      <td>...</td>\n",
       "      <td>...</td>\n",
       "    </tr>\n",
       "    <tr>\n",
       "      <th>10869</th>\n",
       "      <td>Two giant cranes holding bridge collapse nearb...</td>\n",
       "      <td>1</td>\n",
       "    </tr>\n",
       "    <tr>\n",
       "      <th>10870</th>\n",
       "      <td>@aria_ahrary @TheTawniest The control wild fir...</td>\n",
       "      <td>1</td>\n",
       "    </tr>\n",
       "    <tr>\n",
       "      <th>10871</th>\n",
       "      <td>M1.94 [01:04 UTC]?5km S Volcano Hawaii. http:/...</td>\n",
       "      <td>1</td>\n",
       "    </tr>\n",
       "    <tr>\n",
       "      <th>10872</th>\n",
       "      <td>Police investigating e-bike collided car Littl...</td>\n",
       "      <td>1</td>\n",
       "    </tr>\n",
       "    <tr>\n",
       "      <th>10873</th>\n",
       "      <td>The Latest: More Homes Razed Northern Californ...</td>\n",
       "      <td>1</td>\n",
       "    </tr>\n",
       "  </tbody>\n",
       "</table>\n",
       "<p>7613 rows × 2 columns</p>\n",
       "</div>"
      ],
      "text/plain": [
       "                                                    text  target\n",
       "id                                                              \n",
       "1      Our Deeds Reason #earthquake May ALLAH Forgive us       1\n",
       "4                 Forest fire near La Ronge Sask. Canada       1\n",
       "5      All residents asked 'shelter place' notified o...       1\n",
       "6      13,000 people receive #wildfires evacuation or...       1\n",
       "7      Just got sent photo Ruby #Alaska smoke #wildfi...       1\n",
       "...                                                  ...     ...\n",
       "10869  Two giant cranes holding bridge collapse nearb...       1\n",
       "10870  @aria_ahrary @TheTawniest The control wild fir...       1\n",
       "10871  M1.94 [01:04 UTC]?5km S Volcano Hawaii. http:/...       1\n",
       "10872  Police investigating e-bike collided car Littl...       1\n",
       "10873  The Latest: More Homes Razed Northern Californ...       1\n",
       "\n",
       "[7613 rows x 2 columns]"
      ]
     },
     "execution_count": 38,
     "metadata": {},
     "output_type": "execute_result"
    }
   ],
   "source": [
    "df_cnn"
   ]
  },
  {
   "cell_type": "code",
   "execution_count": 39,
   "metadata": {},
   "outputs": [],
   "source": [
    "X_train, X_test, y_train, y_test = train_test_split(df[\"text\"].values, df[\"target\"].values, test_size=0.25, random_state=42)"
   ]
  },
  {
   "cell_type": "markdown",
   "metadata": {},
   "source": [
    "**We should identify our rough vocabulary size for the tokenizer**"
   ]
  },
  {
   "cell_type": "code",
   "execution_count": 40,
   "metadata": {},
   "outputs": [
    {
     "data": {
      "text/plain": [
       "27983"
      ]
     },
     "execution_count": 40,
     "metadata": {},
     "output_type": "execute_result"
    }
   ],
   "source": [
    "results = set()\n",
    "df['text'].str.lower().str.split().apply(results.update)\n",
    "len(results)"
   ]
  },
  {
   "cell_type": "markdown",
   "metadata": {},
   "source": [
    "**We can now start creating our tokenizer pipeline**"
   ]
  },
  {
   "cell_type": "code",
   "execution_count": 41,
   "metadata": {},
   "outputs": [
    {
     "name": "stdout",
     "output_type": "stream",
     "text": [
      "Well as I was chaning an iPad screen it fucking exploded and glass went all over the place. Looks like my job is going to need a new one.\n",
      "[249, 34, 9, 27, 5701, 46, 3790, 1572, 18, 268, 529, 10, 1201, 443, 41, 64, 4, 785, 309, 28, 15, 709, 11, 119, 7, 162, 5, 53, 61]\n"
     ]
    }
   ],
   "source": [
    "tokenizer = Tokenizer(num_words=28000)\n",
    "tokenizer.fit_on_texts(X_train)\n",
    "\n",
    "X_train_vect = tokenizer.texts_to_sequences(X_train)\n",
    "X_test_vect = tokenizer.texts_to_sequences(X_test)\n",
    "\n",
    "vocab_size = len(tokenizer.word_index) + 1  # Adding 1 because of reserved 0 index\n",
    "print(X_train[2])\n",
    "print(X_train_vect[2])"
   ]
  },
  {
   "cell_type": "markdown",
   "metadata": {},
   "source": [
    "**Let's also create a function to plot out training history to check for overtraining**"
   ]
  },
  {
   "cell_type": "code",
   "execution_count": 42,
   "metadata": {},
   "outputs": [],
   "source": [
    "import matplotlib.pyplot as plt\n",
    "plt.style.use('ggplot')\n",
    "\n",
    "def plot_history(history):\n",
    "    acc = history.history['accuracy']\n",
    "    val_acc = history.history['val_accuracy']\n",
    "    loss = history.history['loss']\n",
    "    val_loss = history.history['val_loss']\n",
    "    x = range(1, len(acc) + 1)\n",
    "\n",
    "    plt.figure(figsize=(12, 5))\n",
    "    plt.subplot(1, 2, 1)\n",
    "    plt.plot(x, acc, 'b', label='Training acc')\n",
    "    plt.plot(x, val_acc, 'r', label='Validation acc')\n",
    "    plt.title('Training and validation accuracy')\n",
    "    plt.legend()\n",
    "    plt.subplot(1, 2, 2)\n",
    "    plt.plot(x, loss, 'b', label='Training loss')\n",
    "    plt.plot(x, val_loss, 'r', label='Validation loss')\n",
    "    plt.title('Training and validation loss')\n",
    "    plt.legend()"
   ]
  },
  {
   "cell_type": "markdown",
   "metadata": {},
   "source": [
    "**Let's now work our our padding length - we can estimate this from the longest text length**"
   ]
  },
  {
   "cell_type": "code",
   "execution_count": 43,
   "metadata": {},
   "outputs": [
    {
     "data": {
      "text/plain": [
       "157"
      ]
     },
     "execution_count": 43,
     "metadata": {},
     "output_type": "execute_result"
    }
   ],
   "source": [
    "df[\"text\"].str.len().max()"
   ]
  },
  {
   "cell_type": "code",
   "execution_count": 44,
   "metadata": {},
   "outputs": [],
   "source": [
    "maxlen = 160\n",
    "X_train_vect = sequence.pad_sequences(X_train_vect, padding='post', maxlen=maxlen)\n",
    "X_test_vect = sequence.pad_sequences(X_test_vect, padding='post', maxlen=maxlen)"
   ]
  },
  {
   "cell_type": "markdown",
   "metadata": {},
   "source": [
    "**We can also use an early stopping callback to avoid overtraining**"
   ]
  },
  {
   "cell_type": "code",
   "execution_count": 45,
   "metadata": {},
   "outputs": [],
   "source": [
    "from keras.callbacks import EarlyStopping\n",
    "\n",
    "es = EarlyStopping(monitor=\"loss\", patience=20, verbose=1, restore_best_weights=True)"
   ]
  },
  {
   "cell_type": "markdown",
   "metadata": {},
   "source": [
    "**Now let's create our CNN**"
   ]
  },
  {
   "cell_type": "code",
   "execution_count": 46,
   "metadata": {},
   "outputs": [],
   "source": [
    "def get_model():\n",
    "    embedding_dim = 100\n",
    "\n",
    "    model = Sequential()\n",
    "    model.add(layers.Embedding(vocab_size, embedding_dim, input_length=maxlen))\n",
    "    model.add(layers.Conv1D(64, 5, activation='relu'))\n",
    "    model.add(layers.GlobalMaxPooling1D())\n",
    "    model.add(layers.Dense(256, activation='relu'))\n",
    "    model.add(layers.Dense(1, activation='sigmoid'))\n",
    "    model.compile(optimizer='adam', loss='binary_crossentropy', metrics=['accuracy'])\n",
    "    model.summary()\n",
    "    return model"
   ]
  },
  {
   "cell_type": "markdown",
   "metadata": {},
   "source": [
    "**Now our model is defined, let's fit it**"
   ]
  },
  {
   "cell_type": "code",
   "execution_count": 47,
   "metadata": {},
   "outputs": [
    {
     "name": "stdout",
     "output_type": "stream",
     "text": [
      "Model: \"sequential\"\n",
      "_________________________________________________________________\n",
      "Layer (type)                 Output Shape              Param #   \n",
      "=================================================================\n",
      "embedding (Embedding)        (None, 160, 100)          1865200   \n",
      "_________________________________________________________________\n",
      "conv1d (Conv1D)              (None, 156, 64)           32064     \n",
      "_________________________________________________________________\n",
      "global_max_pooling1d (Global (None, 64)                0         \n",
      "_________________________________________________________________\n",
      "dense (Dense)                (None, 256)               16640     \n",
      "_________________________________________________________________\n",
      "dense_1 (Dense)              (None, 1)                 257       \n",
      "=================================================================\n",
      "Total params: 1,914,161\n",
      "Trainable params: 1,914,161\n",
      "Non-trainable params: 0\n",
      "_________________________________________________________________\n"
     ]
    },
    {
     "name": "stderr",
     "output_type": "stream",
     "text": [
      "2021-09-04 15:57:19.339411: I tensorflow/core/platform/cpu_feature_guard.cc:142] This TensorFlow binary is optimized with oneAPI Deep Neural Network Library (oneDNN) to use the following CPU instructions in performance-critical operations:  SSE4.1 SSE4.2 AVX AVX2 FMA\n",
      "To enable them in other operations, rebuild TensorFlow with the appropriate compiler flags.\n"
     ]
    }
   ],
   "source": [
    "model = get_model()"
   ]
  },
  {
   "cell_type": "code",
   "execution_count": 48,
   "metadata": {},
   "outputs": [
    {
     "name": "stderr",
     "output_type": "stream",
     "text": [
      "2021-09-04 15:57:19.438904: I tensorflow/compiler/mlir/mlir_graph_optimization_pass.cc:116] None of the MLIR optimization passes are enabled (registered 2)\n"
     ]
    },
    {
     "name": "stdout",
     "output_type": "stream",
     "text": [
      "Epoch 1/600\n",
      "357/357 [==============================] - 6s 15ms/step - loss: 0.6073 - accuracy: 0.6655 - val_loss: 0.4373 - val_accuracy: 0.8193\n",
      "Epoch 2/600\n",
      "357/357 [==============================] - 6s 17ms/step - loss: 0.2393 - accuracy: 0.9082 - val_loss: 0.5021 - val_accuracy: 0.7962\n",
      "Epoch 3/600\n",
      "357/357 [==============================] - 7s 18ms/step - loss: 0.0479 - accuracy: 0.9872 - val_loss: 0.6587 - val_accuracy: 0.7810\n",
      "Epoch 4/600\n",
      "357/357 [==============================] - 7s 20ms/step - loss: 0.0279 - accuracy: 0.9943 - val_loss: 0.6938 - val_accuracy: 0.7852\n",
      "Epoch 5/600\n",
      "357/357 [==============================] - 7s 19ms/step - loss: 0.0227 - accuracy: 0.9946 - val_loss: 0.6749 - val_accuracy: 0.7857\n",
      "Epoch 6/600\n",
      "357/357 [==============================] - 7s 20ms/step - loss: 0.0157 - accuracy: 0.9963 - val_loss: 0.7040 - val_accuracy: 0.7805\n",
      "Epoch 7/600\n",
      "357/357 [==============================] - 7s 20ms/step - loss: 0.0140 - accuracy: 0.9964 - val_loss: 0.7086 - val_accuracy: 0.7532\n",
      "Epoch 8/600\n",
      "357/357 [==============================] - 8s 21ms/step - loss: 0.0098 - accuracy: 0.9979 - val_loss: 0.7021 - val_accuracy: 0.7726\n",
      "Epoch 9/600\n",
      "357/357 [==============================] - 7s 21ms/step - loss: 0.0084 - accuracy: 0.9974 - val_loss: 0.7858 - val_accuracy: 0.7416\n",
      "Epoch 10/600\n",
      "357/357 [==============================] - 7s 20ms/step - loss: 0.0086 - accuracy: 0.9958 - val_loss: 0.9106 - val_accuracy: 0.7736\n",
      "Epoch 11/600\n",
      "357/357 [==============================] - 7s 20ms/step - loss: 0.0049 - accuracy: 0.9971 - val_loss: 0.9371 - val_accuracy: 0.7458\n",
      "Epoch 12/600\n",
      "357/357 [==============================] - 7s 20ms/step - loss: 0.0071 - accuracy: 0.9947 - val_loss: 0.9804 - val_accuracy: 0.7631\n",
      "Epoch 13/600\n",
      "357/357 [==============================] - 8s 21ms/step - loss: 0.0058 - accuracy: 0.9969 - val_loss: 1.0106 - val_accuracy: 0.7584\n",
      "Epoch 14/600\n",
      "357/357 [==============================] - 7s 20ms/step - loss: 0.0043 - accuracy: 0.9971 - val_loss: 1.0483 - val_accuracy: 0.7742\n",
      "Epoch 15/600\n",
      "357/357 [==============================] - 7s 21ms/step - loss: 0.0054 - accuracy: 0.9953 - val_loss: 1.0362 - val_accuracy: 0.7626\n",
      "Epoch 16/600\n",
      "357/357 [==============================] - 7s 20ms/step - loss: 0.0052 - accuracy: 0.9960 - val_loss: 0.9656 - val_accuracy: 0.7668\n",
      "Epoch 17/600\n",
      "357/357 [==============================] - 8s 22ms/step - loss: 0.0048 - accuracy: 0.9977 - val_loss: 1.0982 - val_accuracy: 0.7689\n",
      "Epoch 18/600\n",
      "357/357 [==============================] - 7s 20ms/step - loss: 0.0050 - accuracy: 0.9974 - val_loss: 1.0872 - val_accuracy: 0.7642\n",
      "Epoch 19/600\n",
      "357/357 [==============================] - 7s 20ms/step - loss: 0.0052 - accuracy: 0.9968 - val_loss: 1.1505 - val_accuracy: 0.7663\n",
      "Epoch 20/600\n",
      "357/357 [==============================] - 6s 18ms/step - loss: 0.0029 - accuracy: 0.9981 - val_loss: 1.1842 - val_accuracy: 0.7663\n",
      "Epoch 21/600\n",
      "357/357 [==============================] - 7s 19ms/step - loss: 0.0034 - accuracy: 0.9975 - val_loss: 1.2056 - val_accuracy: 0.7647\n",
      "Epoch 22/600\n",
      "357/357 [==============================] - 7s 19ms/step - loss: 0.0045 - accuracy: 0.9976 - val_loss: 1.2494 - val_accuracy: 0.7647\n",
      "Epoch 23/600\n",
      "357/357 [==============================] - 7s 20ms/step - loss: 0.0038 - accuracy: 0.9984 - val_loss: 1.4953 - val_accuracy: 0.7616\n",
      "Epoch 24/600\n",
      "357/357 [==============================] - 6s 18ms/step - loss: 0.0088 - accuracy: 0.9971 - val_loss: 1.3872 - val_accuracy: 0.6796\n",
      "Epoch 25/600\n",
      "357/357 [==============================] - 7s 18ms/step - loss: 0.0100 - accuracy: 0.9957 - val_loss: 1.4682 - val_accuracy: 0.7521\n",
      "Epoch 26/600\n",
      "357/357 [==============================] - 7s 19ms/step - loss: 0.0067 - accuracy: 0.9974 - val_loss: 1.2654 - val_accuracy: 0.7363\n",
      "Epoch 27/600\n",
      "357/357 [==============================] - 7s 19ms/step - loss: 0.0050 - accuracy: 0.9976 - val_loss: 1.2851 - val_accuracy: 0.7342\n",
      "Epoch 28/600\n",
      "357/357 [==============================] - 7s 19ms/step - loss: 0.0035 - accuracy: 0.9988 - val_loss: 1.3146 - val_accuracy: 0.7348\n",
      "Epoch 29/600\n",
      "357/357 [==============================] - 7s 19ms/step - loss: 0.0046 - accuracy: 0.9967 - val_loss: 1.3354 - val_accuracy: 0.7358\n",
      "Epoch 30/600\n",
      "357/357 [==============================] - 7s 19ms/step - loss: 0.0029 - accuracy: 0.9987 - val_loss: 1.2593 - val_accuracy: 0.7306\n",
      "Epoch 31/600\n",
      "357/357 [==============================] - 7s 19ms/step - loss: 0.0045 - accuracy: 0.9974 - val_loss: 1.2453 - val_accuracy: 0.7369\n",
      "Epoch 32/600\n",
      "357/357 [==============================] - 7s 19ms/step - loss: 0.0047 - accuracy: 0.9967 - val_loss: 1.2741 - val_accuracy: 0.7374\n",
      "Epoch 33/600\n",
      "357/357 [==============================] - 7s 19ms/step - loss: 0.0029 - accuracy: 0.9988 - val_loss: 1.3008 - val_accuracy: 0.7384\n",
      "Epoch 34/600\n",
      "357/357 [==============================] - 7s 19ms/step - loss: 0.0041 - accuracy: 0.9972 - val_loss: 1.3378 - val_accuracy: 0.7437\n",
      "Epoch 35/600\n",
      "357/357 [==============================] - 7s 20ms/step - loss: 0.0044 - accuracy: 0.9965 - val_loss: 1.3297 - val_accuracy: 0.7353\n",
      "Epoch 36/600\n",
      "357/357 [==============================] - 7s 19ms/step - loss: 0.0033 - accuracy: 0.9977 - val_loss: 1.3410 - val_accuracy: 0.7363\n",
      "Epoch 37/600\n",
      "357/357 [==============================] - 7s 20ms/step - loss: 0.0039 - accuracy: 0.9979 - val_loss: 1.3733 - val_accuracy: 0.7411\n",
      "Epoch 38/600\n",
      "357/357 [==============================] - 7s 19ms/step - loss: 0.0052 - accuracy: 0.9968 - val_loss: 1.3907 - val_accuracy: 0.7363\n",
      "Epoch 39/600\n",
      "357/357 [==============================] - 7s 19ms/step - loss: 0.0044 - accuracy: 0.9959 - val_loss: 1.4148 - val_accuracy: 0.7342\n",
      "Epoch 40/600\n",
      "357/357 [==============================] - 7s 19ms/step - loss: 0.0046 - accuracy: 0.9975 - val_loss: 1.4530 - val_accuracy: 0.7358\n",
      "Epoch 41/600\n",
      "357/357 [==============================] - 7s 20ms/step - loss: 0.0039 - accuracy: 0.9978 - val_loss: 1.5141 - val_accuracy: 0.7458\n",
      "Epoch 42/600\n",
      "357/357 [==============================] - 7s 20ms/step - loss: 0.0082 - accuracy: 0.9971 - val_loss: 1.9719 - val_accuracy: 0.7132\n",
      "Epoch 43/600\n",
      "357/357 [==============================] - 7s 20ms/step - loss: 0.0104 - accuracy: 0.9960 - val_loss: 1.9938 - val_accuracy: 0.7143\n",
      "Epoch 44/600\n",
      "357/357 [==============================] - 7s 18ms/step - loss: 0.0053 - accuracy: 0.9971 - val_loss: 1.6055 - val_accuracy: 0.7222\n",
      "Epoch 45/600\n",
      "357/357 [==============================] - 7s 18ms/step - loss: 0.0033 - accuracy: 0.9985 - val_loss: 1.7522 - val_accuracy: 0.7216\n",
      "Epoch 46/600\n",
      "357/357 [==============================] - 7s 19ms/step - loss: 0.0037 - accuracy: 0.9973 - val_loss: 1.6890 - val_accuracy: 0.7180\n",
      "Epoch 47/600\n",
      "357/357 [==============================] - 7s 20ms/step - loss: 0.0064 - accuracy: 0.9969 - val_loss: 1.7740 - val_accuracy: 0.7316\n",
      "Epoch 48/600\n",
      "357/357 [==============================] - 8s 21ms/step - loss: 0.0024 - accuracy: 0.9988 - val_loss: 1.7212 - val_accuracy: 0.7311\n",
      "Epoch 49/600\n",
      "357/357 [==============================] - 8s 22ms/step - loss: 0.0046 - accuracy: 0.9974 - val_loss: 1.7331 - val_accuracy: 0.7311\n",
      "Epoch 50/600\n",
      "357/357 [==============================] - 7s 20ms/step - loss: 0.0025 - accuracy: 0.9980 - val_loss: 1.7163 - val_accuracy: 0.7311\n",
      "Epoch 51/600\n",
      "357/357 [==============================] - 7s 21ms/step - loss: 0.0027 - accuracy: 0.9984 - val_loss: 1.7298 - val_accuracy: 0.7337\n",
      "Epoch 52/600\n",
      "357/357 [==============================] - 7s 20ms/step - loss: 0.0035 - accuracy: 0.9990 - val_loss: 1.5139 - val_accuracy: 0.7358\n",
      "Epoch 53/600\n",
      "357/357 [==============================] - 7s 20ms/step - loss: 0.0038 - accuracy: 0.9974 - val_loss: 1.5605 - val_accuracy: 0.7363\n",
      "Epoch 54/600\n",
      "357/357 [==============================] - 7s 19ms/step - loss: 0.0032 - accuracy: 0.9984 - val_loss: 1.5877 - val_accuracy: 0.7405\n",
      "Epoch 55/600\n",
      "357/357 [==============================] - 7s 19ms/step - loss: 0.0042 - accuracy: 0.9975 - val_loss: 1.5807 - val_accuracy: 0.7369\n",
      "Epoch 56/600\n",
      "357/357 [==============================] - 7s 19ms/step - loss: 0.0040 - accuracy: 0.9967 - val_loss: 1.6238 - val_accuracy: 0.7405\n",
      "Epoch 57/600\n"
     ]
    },
    {
     "name": "stdout",
     "output_type": "stream",
     "text": [
      "357/357 [==============================] - 7s 19ms/step - loss: 0.0030 - accuracy: 0.9978 - val_loss: 1.6610 - val_accuracy: 0.7405\n",
      "Epoch 58/600\n",
      "357/357 [==============================] - 7s 18ms/step - loss: 0.0039 - accuracy: 0.9977 - val_loss: 1.6844 - val_accuracy: 0.7374\n",
      "Epoch 59/600\n",
      "357/357 [==============================] - 6s 18ms/step - loss: 0.0041 - accuracy: 0.9977 - val_loss: 1.7059 - val_accuracy: 0.7395\n",
      "Epoch 60/600\n",
      "357/357 [==============================] - 7s 18ms/step - loss: 0.0022 - accuracy: 0.9986 - val_loss: 1.7244 - val_accuracy: 0.7390\n",
      "Epoch 61/600\n",
      "357/357 [==============================] - 7s 19ms/step - loss: 0.0047 - accuracy: 0.9969 - val_loss: 1.7510 - val_accuracy: 0.7395\n",
      "Epoch 62/600\n",
      "357/357 [==============================] - 7s 19ms/step - loss: 0.0021 - accuracy: 0.9991 - val_loss: 1.8064 - val_accuracy: 0.7369\n",
      "Epoch 63/600\n",
      "357/357 [==============================] - 7s 19ms/step - loss: 0.0040 - accuracy: 0.9975 - val_loss: 1.7673 - val_accuracy: 0.7285\n",
      "Epoch 64/600\n",
      "357/357 [==============================] - 7s 19ms/step - loss: 0.0045 - accuracy: 0.9970 - val_loss: 1.8546 - val_accuracy: 0.7306\n",
      "Epoch 65/600\n",
      "357/357 [==============================] - 7s 19ms/step - loss: 0.0087 - accuracy: 0.9959 - val_loss: 1.6571 - val_accuracy: 0.7311\n",
      "Restoring model weights from the end of the best epoch.\n",
      "Epoch 00065: early stopping\n"
     ]
    }
   ],
   "source": [
    "history = model.fit(\n",
    "    X_train_vect, y_train, epochs=600, verbose=1, \n",
    "    validation_data=(X_test_vect, y_test), batch_size=16,\n",
    "    callbacks=[es]\n",
    ")"
   ]
  },
  {
   "cell_type": "markdown",
   "metadata": {},
   "source": [
    "**And finally, let's evaluate our model on train and test data**"
   ]
  },
  {
   "cell_type": "code",
   "execution_count": 49,
   "metadata": {
    "scrolled": false
   },
   "outputs": [
    {
     "name": "stdout",
     "output_type": "stream",
     "text": [
      "Training Accuracy: 0.9977\n",
      "Testing Accuracy: 0.7216\n"
     ]
    }
   ],
   "source": [
    "loss, accuracy = model.evaluate(X_train_vect, y_train, verbose=False)\n",
    "print(\"Training Accuracy: {:.4f}\".format(accuracy))\n",
    "loss, accuracy = model.evaluate(X_test_vect, y_test, verbose=False)\n",
    "print(\"Testing Accuracy: {:.4f}\".format(accuracy))"
   ]
  },
  {
   "cell_type": "code",
   "execution_count": 50,
   "metadata": {},
   "outputs": [
    {
     "data": {
      "image/png": "[encoded data removed]",
      "text/plain": [
       "<Figure size 864x360 with 2 Axes>"
      ]
     },
     "metadata": {},
     "output_type": "display_data"
    }
   ],
   "source": [
    "plot_history(history)"
   ]
  },
  {
   "cell_type": "markdown",
   "metadata": {},
   "source": [
    "**Looks like optimum training point is about epoch 4 - let's retrain to that**"
   ]
  },
  {
   "cell_type": "code",
   "execution_count": 53,
   "metadata": {},
   "outputs": [
    {
     "name": "stdout",
     "output_type": "stream",
     "text": [
      "Model: \"sequential_2\"\n",
      "_________________________________________________________________\n",
      "Layer (type)                 Output Shape              Param #   \n",
      "=================================================================\n",
      "embedding_2 (Embedding)      (None, 160, 100)          1865200   \n",
      "_________________________________________________________________\n",
      "conv1d_2 (Conv1D)            (None, 156, 64)           32064     \n",
      "_________________________________________________________________\n",
      "global_max_pooling1d_2 (Glob (None, 64)                0         \n",
      "_________________________________________________________________\n",
      "dense_4 (Dense)              (None, 256)               16640     \n",
      "_________________________________________________________________\n",
      "dense_5 (Dense)              (None, 1)                 257       \n",
      "=================================================================\n",
      "Total params: 1,914,161\n",
      "Trainable params: 1,914,161\n",
      "Non-trainable params: 0\n",
      "_________________________________________________________________\n",
      "Epoch 1/4\n",
      "357/357 [==============================] - 7s 18ms/step - loss: 0.6133 - accuracy: 0.6478 - val_loss: 0.4392 - val_accuracy: 0.8114\n",
      "Epoch 2/4\n",
      "357/357 [==============================] - 7s 18ms/step - loss: 0.2716 - accuracy: 0.8989 - val_loss: 0.5303 - val_accuracy: 0.7742\n",
      "Epoch 3/4\n",
      "357/357 [==============================] - 6s 17ms/step - loss: 0.0568 - accuracy: 0.9846 - val_loss: 0.7279 - val_accuracy: 0.7768\n",
      "Epoch 4/4\n",
      "357/357 [==============================] - 6s 18ms/step - loss: 0.0267 - accuracy: 0.9934 - val_loss: 0.6320 - val_accuracy: 0.7784\n"
     ]
    },
    {
     "data": {
      "image/png": "[encoded data removed]",
      "text/plain": [
       "<Figure size 864x360 with 2 Axes>"
      ]
     },
     "metadata": {},
     "output_type": "display_data"
    }
   ],
   "source": [
    "model = get_model()\n",
    "history = model.fit(\n",
    "    X_train_vect, y_train, epochs=4, verbose=1, \n",
    "    validation_data=(X_test_vect, y_test), batch_size=16,\n",
    "    callbacks=[es]\n",
    ")\n",
    "plot_history(history)"
   ]
  },
  {
   "cell_type": "markdown",
   "metadata": {},
   "source": [
    "**Looks like our best ~80% accuracy might be the ceiling here. Our XGBoost and SVC performed roughly the same - let's pick the SVC for now as it performs ever slightly better. Let's finally predict on our validation test set and upload to Kaggle!**"
   ]
  },
  {
   "cell_type": "code",
   "execution_count": 54,
   "metadata": {
    "scrolled": true
   },
   "outputs": [],
   "source": [
    "val_proc = preprocess_df(val, train=False)"
   ]
  },
  {
   "cell_type": "code",
   "execution_count": 55,
   "metadata": {},
   "outputs": [
    {
     "data": {
      "text/html": [
       "<div>\n",
       "<style scoped>\n",
       "    .dataframe tbody tr th:only-of-type {\n",
       "        vertical-align: middle;\n",
       "    }\n",
       "\n",
       "    .dataframe tbody tr th {\n",
       "        vertical-align: top;\n",
       "    }\n",
       "\n",
       "    .dataframe thead th {\n",
       "        text-align: right;\n",
       "    }\n",
       "</style>\n",
       "<table border=\"1\" class=\"dataframe\">\n",
       "  <thead>\n",
       "    <tr style=\"text-align: right;\">\n",
       "      <th></th>\n",
       "      <th>0</th>\n",
       "      <th>1</th>\n",
       "      <th>2</th>\n",
       "      <th>3</th>\n",
       "      <th>4</th>\n",
       "      <th>5</th>\n",
       "      <th>6</th>\n",
       "      <th>7</th>\n",
       "      <th>8</th>\n",
       "      <th>9</th>\n",
       "      <th>...</th>\n",
       "      <th>293</th>\n",
       "      <th>294</th>\n",
       "      <th>295</th>\n",
       "      <th>296</th>\n",
       "      <th>297</th>\n",
       "      <th>298</th>\n",
       "      <th>299</th>\n",
       "      <th>chars</th>\n",
       "      <th>words</th>\n",
       "      <th>contains_url</th>\n",
       "    </tr>\n",
       "  </thead>\n",
       "  <tbody>\n",
       "    <tr>\n",
       "      <th>0</th>\n",
       "      <td>-0.050505</td>\n",
       "      <td>0.308120</td>\n",
       "      <td>-0.148096</td>\n",
       "      <td>0.162880</td>\n",
       "      <td>0.131526</td>\n",
       "      <td>-0.161931</td>\n",
       "      <td>0.004152</td>\n",
       "      <td>-0.226200</td>\n",
       "      <td>-0.011638</td>\n",
       "      <td>2.471017</td>\n",
       "      <td>...</td>\n",
       "      <td>-0.192910</td>\n",
       "      <td>0.180882</td>\n",
       "      <td>-0.074780</td>\n",
       "      <td>-0.081589</td>\n",
       "      <td>-0.008182</td>\n",
       "      <td>0.119096</td>\n",
       "      <td>0.065696</td>\n",
       "      <td>34</td>\n",
       "      <td>6</td>\n",
       "      <td>0</td>\n",
       "    </tr>\n",
       "    <tr>\n",
       "      <th>2</th>\n",
       "      <td>-0.025757</td>\n",
       "      <td>0.292128</td>\n",
       "      <td>-0.184004</td>\n",
       "      <td>-0.196917</td>\n",
       "      <td>0.096486</td>\n",
       "      <td>0.004632</td>\n",
       "      <td>0.019400</td>\n",
       "      <td>-0.051837</td>\n",
       "      <td>-0.049367</td>\n",
       "      <td>2.251637</td>\n",
       "      <td>...</td>\n",
       "      <td>0.014848</td>\n",
       "      <td>0.083322</td>\n",
       "      <td>0.023566</td>\n",
       "      <td>-0.157935</td>\n",
       "      <td>0.016531</td>\n",
       "      <td>-0.119426</td>\n",
       "      <td>0.133548</td>\n",
       "      <td>64</td>\n",
       "      <td>9</td>\n",
       "      <td>0</td>\n",
       "    </tr>\n",
       "    <tr>\n",
       "      <th>3</th>\n",
       "      <td>0.012182</td>\n",
       "      <td>0.129268</td>\n",
       "      <td>-0.190941</td>\n",
       "      <td>-0.102834</td>\n",
       "      <td>0.105830</td>\n",
       "      <td>0.064567</td>\n",
       "      <td>-0.001545</td>\n",
       "      <td>-0.044771</td>\n",
       "      <td>-0.189545</td>\n",
       "      <td>2.306918</td>\n",
       "      <td>...</td>\n",
       "      <td>-0.104431</td>\n",
       "      <td>-0.133592</td>\n",
       "      <td>0.088430</td>\n",
       "      <td>-0.123709</td>\n",
       "      <td>-0.036356</td>\n",
       "      <td>-0.015761</td>\n",
       "      <td>0.076801</td>\n",
       "      <td>96</td>\n",
       "      <td>19</td>\n",
       "      <td>0</td>\n",
       "    </tr>\n",
       "    <tr>\n",
       "      <th>9</th>\n",
       "      <td>-0.173604</td>\n",
       "      <td>0.159634</td>\n",
       "      <td>0.216364</td>\n",
       "      <td>-0.218809</td>\n",
       "      <td>-0.024715</td>\n",
       "      <td>-0.089679</td>\n",
       "      <td>0.172309</td>\n",
       "      <td>0.206739</td>\n",
       "      <td>-0.137449</td>\n",
       "      <td>0.853369</td>\n",
       "      <td>...</td>\n",
       "      <td>0.204457</td>\n",
       "      <td>0.004870</td>\n",
       "      <td>-0.161439</td>\n",
       "      <td>-0.134559</td>\n",
       "      <td>-0.082690</td>\n",
       "      <td>-0.293732</td>\n",
       "      <td>0.069293</td>\n",
       "      <td>40</td>\n",
       "      <td>4</td>\n",
       "      <td>0</td>\n",
       "    </tr>\n",
       "    <tr>\n",
       "      <th>11</th>\n",
       "      <td>-0.175291</td>\n",
       "      <td>0.322388</td>\n",
       "      <td>0.125275</td>\n",
       "      <td>-0.133462</td>\n",
       "      <td>0.154615</td>\n",
       "      <td>-0.016825</td>\n",
       "      <td>0.019487</td>\n",
       "      <td>-0.009099</td>\n",
       "      <td>0.094916</td>\n",
       "      <td>1.037178</td>\n",
       "      <td>...</td>\n",
       "      <td>0.093558</td>\n",
       "      <td>-0.129959</td>\n",
       "      <td>-0.115040</td>\n",
       "      <td>-0.169215</td>\n",
       "      <td>0.065764</td>\n",
       "      <td>-0.231117</td>\n",
       "      <td>0.332777</td>\n",
       "      <td>45</td>\n",
       "      <td>8</td>\n",
       "      <td>0</td>\n",
       "    </tr>\n",
       "    <tr>\n",
       "      <th>...</th>\n",
       "      <td>...</td>\n",
       "      <td>...</td>\n",
       "      <td>...</td>\n",
       "      <td>...</td>\n",
       "      <td>...</td>\n",
       "      <td>...</td>\n",
       "      <td>...</td>\n",
       "      <td>...</td>\n",
       "      <td>...</td>\n",
       "      <td>...</td>\n",
       "      <td>...</td>\n",
       "      <td>...</td>\n",
       "      <td>...</td>\n",
       "      <td>...</td>\n",
       "      <td>...</td>\n",
       "      <td>...</td>\n",
       "      <td>...</td>\n",
       "      <td>...</td>\n",
       "      <td>...</td>\n",
       "      <td>...</td>\n",
       "      <td>...</td>\n",
       "    </tr>\n",
       "    <tr>\n",
       "      <th>10861</th>\n",
       "      <td>0.051009</td>\n",
       "      <td>0.053705</td>\n",
       "      <td>0.092849</td>\n",
       "      <td>0.032585</td>\n",
       "      <td>0.130665</td>\n",
       "      <td>-0.266425</td>\n",
       "      <td>-0.048828</td>\n",
       "      <td>0.036363</td>\n",
       "      <td>-0.023070</td>\n",
       "      <td>1.010845</td>\n",
       "      <td>...</td>\n",
       "      <td>0.118493</td>\n",
       "      <td>0.330770</td>\n",
       "      <td>-0.096660</td>\n",
       "      <td>0.093989</td>\n",
       "      <td>0.005320</td>\n",
       "      <td>0.026829</td>\n",
       "      <td>0.068863</td>\n",
       "      <td>55</td>\n",
       "      <td>8</td>\n",
       "      <td>0</td>\n",
       "    </tr>\n",
       "    <tr>\n",
       "      <th>10865</th>\n",
       "      <td>-0.043876</td>\n",
       "      <td>0.168761</td>\n",
       "      <td>-0.049294</td>\n",
       "      <td>-0.119383</td>\n",
       "      <td>0.119087</td>\n",
       "      <td>-0.026727</td>\n",
       "      <td>0.005873</td>\n",
       "      <td>0.003380</td>\n",
       "      <td>-0.015345</td>\n",
       "      <td>1.911376</td>\n",
       "      <td>...</td>\n",
       "      <td>0.010217</td>\n",
       "      <td>0.000878</td>\n",
       "      <td>0.041666</td>\n",
       "      <td>-0.069259</td>\n",
       "      <td>0.056738</td>\n",
       "      <td>-0.093649</td>\n",
       "      <td>0.028527</td>\n",
       "      <td>139</td>\n",
       "      <td>23</td>\n",
       "      <td>0</td>\n",
       "    </tr>\n",
       "    <tr>\n",
       "      <th>10868</th>\n",
       "      <td>0.045179</td>\n",
       "      <td>0.161062</td>\n",
       "      <td>0.056522</td>\n",
       "      <td>-0.119962</td>\n",
       "      <td>0.504487</td>\n",
       "      <td>0.212347</td>\n",
       "      <td>-0.031283</td>\n",
       "      <td>-0.008410</td>\n",
       "      <td>-0.012093</td>\n",
       "      <td>1.223308</td>\n",
       "      <td>...</td>\n",
       "      <td>-0.139120</td>\n",
       "      <td>-0.081405</td>\n",
       "      <td>-0.074482</td>\n",
       "      <td>-0.104706</td>\n",
       "      <td>0.071525</td>\n",
       "      <td>-0.140237</td>\n",
       "      <td>0.290040</td>\n",
       "      <td>55</td>\n",
       "      <td>6</td>\n",
       "      <td>0</td>\n",
       "    </tr>\n",
       "    <tr>\n",
       "      <th>10874</th>\n",
       "      <td>-0.046740</td>\n",
       "      <td>0.116137</td>\n",
       "      <td>-0.043217</td>\n",
       "      <td>0.041952</td>\n",
       "      <td>-0.120096</td>\n",
       "      <td>0.097775</td>\n",
       "      <td>0.095649</td>\n",
       "      <td>-0.145780</td>\n",
       "      <td>0.060794</td>\n",
       "      <td>1.058670</td>\n",
       "      <td>...</td>\n",
       "      <td>-0.004398</td>\n",
       "      <td>-0.043952</td>\n",
       "      <td>0.003886</td>\n",
       "      <td>-0.086006</td>\n",
       "      <td>-0.185807</td>\n",
       "      <td>-0.028134</td>\n",
       "      <td>-0.138579</td>\n",
       "      <td>65</td>\n",
       "      <td>7</td>\n",
       "      <td>0</td>\n",
       "    </tr>\n",
       "    <tr>\n",
       "      <th>10875</th>\n",
       "      <td>-0.011968</td>\n",
       "      <td>0.185421</td>\n",
       "      <td>0.123317</td>\n",
       "      <td>-0.089202</td>\n",
       "      <td>-0.059965</td>\n",
       "      <td>-0.064851</td>\n",
       "      <td>0.053491</td>\n",
       "      <td>-0.135871</td>\n",
       "      <td>-0.139976</td>\n",
       "      <td>1.536783</td>\n",
       "      <td>...</td>\n",
       "      <td>0.088925</td>\n",
       "      <td>0.016848</td>\n",
       "      <td>-0.181663</td>\n",
       "      <td>-0.076834</td>\n",
       "      <td>-0.065193</td>\n",
       "      <td>-0.117484</td>\n",
       "      <td>0.000939</td>\n",
       "      <td>68</td>\n",
       "      <td>8</td>\n",
       "      <td>0</td>\n",
       "    </tr>\n",
       "  </tbody>\n",
       "</table>\n",
       "<p>3263 rows × 303 columns</p>\n",
       "</div>"
      ],
      "text/plain": [
       "              0         1         2         3         4         5         6  \\\n",
       "0     -0.050505  0.308120 -0.148096  0.162880  0.131526 -0.161931  0.004152   \n",
       "2     -0.025757  0.292128 -0.184004 -0.196917  0.096486  0.004632  0.019400   \n",
       "3      0.012182  0.129268 -0.190941 -0.102834  0.105830  0.064567 -0.001545   \n",
       "9     -0.173604  0.159634  0.216364 -0.218809 -0.024715 -0.089679  0.172309   \n",
       "11    -0.175291  0.322388  0.125275 -0.133462  0.154615 -0.016825  0.019487   \n",
       "...         ...       ...       ...       ...       ...       ...       ...   \n",
       "10861  0.051009  0.053705  0.092849  0.032585  0.130665 -0.266425 -0.048828   \n",
       "10865 -0.043876  0.168761 -0.049294 -0.119383  0.119087 -0.026727  0.005873   \n",
       "10868  0.045179  0.161062  0.056522 -0.119962  0.504487  0.212347 -0.031283   \n",
       "10874 -0.046740  0.116137 -0.043217  0.041952 -0.120096  0.097775  0.095649   \n",
       "10875 -0.011968  0.185421  0.123317 -0.089202 -0.059965 -0.064851  0.053491   \n",
       "\n",
       "              7         8         9  ...       293       294       295  \\\n",
       "0     -0.226200 -0.011638  2.471017  ... -0.192910  0.180882 -0.074780   \n",
       "2     -0.051837 -0.049367  2.251637  ...  0.014848  0.083322  0.023566   \n",
       "3     -0.044771 -0.189545  2.306918  ... -0.104431 -0.133592  0.088430   \n",
       "9      0.206739 -0.137449  0.853369  ...  0.204457  0.004870 -0.161439   \n",
       "11    -0.009099  0.094916  1.037178  ...  0.093558 -0.129959 -0.115040   \n",
       "...         ...       ...       ...  ...       ...       ...       ...   \n",
       "10861  0.036363 -0.023070  1.010845  ...  0.118493  0.330770 -0.096660   \n",
       "10865  0.003380 -0.015345  1.911376  ...  0.010217  0.000878  0.041666   \n",
       "10868 -0.008410 -0.012093  1.223308  ... -0.139120 -0.081405 -0.074482   \n",
       "10874 -0.145780  0.060794  1.058670  ... -0.004398 -0.043952  0.003886   \n",
       "10875 -0.135871 -0.139976  1.536783  ...  0.088925  0.016848 -0.181663   \n",
       "\n",
       "            296       297       298       299  chars  words  contains_url  \n",
       "0     -0.081589 -0.008182  0.119096  0.065696     34      6             0  \n",
       "2     -0.157935  0.016531 -0.119426  0.133548     64      9             0  \n",
       "3     -0.123709 -0.036356 -0.015761  0.076801     96     19             0  \n",
       "9     -0.134559 -0.082690 -0.293732  0.069293     40      4             0  \n",
       "11    -0.169215  0.065764 -0.231117  0.332777     45      8             0  \n",
       "...         ...       ...       ...       ...    ...    ...           ...  \n",
       "10861  0.093989  0.005320  0.026829  0.068863     55      8             0  \n",
       "10865 -0.069259  0.056738 -0.093649  0.028527    139     23             0  \n",
       "10868 -0.104706  0.071525 -0.140237  0.290040     55      6             0  \n",
       "10874 -0.086006 -0.185807 -0.028134 -0.138579     65      7             0  \n",
       "10875 -0.076834 -0.065193 -0.117484  0.000939     68      8             0  \n",
       "\n",
       "[3263 rows x 303 columns]"
      ]
     },
     "execution_count": 55,
     "metadata": {},
     "output_type": "execute_result"
    }
   ],
   "source": [
    "val_proc"
   ]
  },
  {
   "cell_type": "code",
   "execution_count": 77,
   "metadata": {},
   "outputs": [],
   "source": [
    "y_val = clf.predict(val_proc)"
   ]
  },
  {
   "cell_type": "code",
   "execution_count": 93,
   "metadata": {},
   "outputs": [
    {
     "data": {
      "text/html": [
       "<div>\n",
       "<style scoped>\n",
       "    .dataframe tbody tr th:only-of-type {\n",
       "        vertical-align: middle;\n",
       "    }\n",
       "\n",
       "    .dataframe tbody tr th {\n",
       "        vertical-align: top;\n",
       "    }\n",
       "\n",
       "    .dataframe thead th {\n",
       "        text-align: right;\n",
       "    }\n",
       "</style>\n",
       "<table border=\"1\" class=\"dataframe\">\n",
       "  <thead>\n",
       "    <tr style=\"text-align: right;\">\n",
       "      <th></th>\n",
       "      <th>target</th>\n",
       "    </tr>\n",
       "    <tr>\n",
       "      <th>id</th>\n",
       "      <th></th>\n",
       "    </tr>\n",
       "  </thead>\n",
       "  <tbody>\n",
       "    <tr>\n",
       "      <th>0</th>\n",
       "      <td>1</td>\n",
       "    </tr>\n",
       "    <tr>\n",
       "      <th>2</th>\n",
       "      <td>1</td>\n",
       "    </tr>\n",
       "    <tr>\n",
       "      <th>3</th>\n",
       "      <td>1</td>\n",
       "    </tr>\n",
       "    <tr>\n",
       "      <th>9</th>\n",
       "      <td>1</td>\n",
       "    </tr>\n",
       "    <tr>\n",
       "      <th>11</th>\n",
       "      <td>1</td>\n",
       "    </tr>\n",
       "    <tr>\n",
       "      <th>...</th>\n",
       "      <td>...</td>\n",
       "    </tr>\n",
       "    <tr>\n",
       "      <th>10861</th>\n",
       "      <td>1</td>\n",
       "    </tr>\n",
       "    <tr>\n",
       "      <th>10865</th>\n",
       "      <td>1</td>\n",
       "    </tr>\n",
       "    <tr>\n",
       "      <th>10868</th>\n",
       "      <td>1</td>\n",
       "    </tr>\n",
       "    <tr>\n",
       "      <th>10874</th>\n",
       "      <td>1</td>\n",
       "    </tr>\n",
       "    <tr>\n",
       "      <th>10875</th>\n",
       "      <td>1</td>\n",
       "    </tr>\n",
       "  </tbody>\n",
       "</table>\n",
       "<p>3263 rows × 1 columns</p>\n",
       "</div>"
      ],
      "text/plain": [
       "       target\n",
       "id           \n",
       "0           1\n",
       "2           1\n",
       "3           1\n",
       "9           1\n",
       "11          1\n",
       "...       ...\n",
       "10861       1\n",
       "10865       1\n",
       "10868       1\n",
       "10874       1\n",
       "10875       1\n",
       "\n",
       "[3263 rows x 1 columns]"
      ]
     },
     "execution_count": 93,
     "metadata": {},
     "output_type": "execute_result"
    }
   ],
   "source": [
    "results = pd.DataFrame(y_val, index=val.index, columns=[\"target\"])\n",
    "results[\"target\"] = results.target.astype(\"int64\")\n",
    "results"
   ]
  },
  {
   "cell_type": "code",
   "execution_count": 95,
   "metadata": {},
   "outputs": [],
   "source": [
    "results.to_csv(\"~/results.csv\")"
   ]
  },
  {
   "cell_type": "markdown",
   "metadata": {},
   "source": [
    "**For future iterations, maybe we perform feature engineering, further tune the CNN, or add additional convolutional or dense layers, or use transformers (e.g. BERT) for text vectorization**"
   ]
  }
 ],
 "metadata": {
  "kernelspec": {
   "display_name": "Python 3 (ipykernel)",
   "language": "python",
   "name": "python3"
  },
  "language_info": {
   "codemirror_mode": {
    "name": "ipython",
    "version": 3
   },
   "file_extension": ".py",
   "mimetype": "text/x-python",
   "name": "python",
   "nbconvert_exporter": "python",
   "pygments_lexer": "ipython3",
   "version": "3.7.11"
  }
 },
 "nbformat": 4,
 "nbformat_minor": 4
}
